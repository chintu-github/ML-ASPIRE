{
 "cells": [
  {
   "cell_type": "markdown",
   "metadata": {},
   "source": [
    "## POS tagging using modified Viterbi"
   ]
  },
  {
   "cell_type": "markdown",
   "metadata": {},
   "source": [
    "### Data Preparation"
   ]
  },
  {
   "cell_type": "code",
   "execution_count": 1,
   "metadata": {},
   "outputs": [],
   "source": [
    "#Importing libraries\n",
    "import nltk\n",
    "import random\n",
    "import time\n",
    "import codecs\n",
    "import numpy as np\n",
    "import pandas as pd\n",
    "import seaborn as sns\n",
    "import matplotlib.pyplot as plt\n",
    "from nltk.tokenize import word_tokenize\n",
    "from sklearn.model_selection import train_test_split"
   ]
  },
  {
   "cell_type": "code",
   "execution_count": 2,
   "metadata": {},
   "outputs": [
    {
     "name": "stderr",
     "output_type": "stream",
     "text": [
      "[nltk_data] Downloading package treebank to /Users/chintu/nltk_data...\n",
      "[nltk_data]   Package treebank is already up-to-date!\n"
     ]
    },
    {
     "data": {
      "text/plain": [
       "True"
      ]
     },
     "execution_count": 2,
     "metadata": {},
     "output_type": "execute_result"
    }
   ],
   "source": [
    "# downloading treebank dataset using nltk\n",
    "nltk.download('treebank')\n"
   ]
  },
  {
   "cell_type": "code",
   "execution_count": 3,
   "metadata": {},
   "outputs": [
    {
     "name": "stderr",
     "output_type": "stream",
     "text": [
      "[nltk_data] Downloading package universal_tagset to\n",
      "[nltk_data]     /Users/chintu/nltk_data...\n",
      "[nltk_data]   Package universal_tagset is already up-to-date!\n"
     ]
    },
    {
     "data": {
      "text/plain": [
       "True"
      ]
     },
     "execution_count": 3,
     "metadata": {},
     "output_type": "execute_result"
    }
   ],
   "source": [
    "# downloading universal tagset using nltk\n",
    "nltk.download('universal_tagset')\n"
   ]
  },
  {
   "cell_type": "code",
   "execution_count": 4,
   "metadata": {},
   "outputs": [],
   "source": [
    "# reading the Treebank tagged sentences\n",
    "nltk_data = list(nltk.corpus.treebank.tagged_sents(tagset='universal'))"
   ]
  },
  {
   "cell_type": "code",
   "execution_count": 5,
   "metadata": {
    "scrolled": false
   },
   "outputs": [
    {
     "data": {
      "text/plain": [
       "[[('Pierre', 'NOUN'),\n",
       "  ('Vinken', 'NOUN'),\n",
       "  (',', '.'),\n",
       "  ('61', 'NUM'),\n",
       "  ('years', 'NOUN'),\n",
       "  ('old', 'ADJ'),\n",
       "  (',', '.'),\n",
       "  ('will', 'VERB'),\n",
       "  ('join', 'VERB'),\n",
       "  ('the', 'DET'),\n",
       "  ('board', 'NOUN'),\n",
       "  ('as', 'ADP'),\n",
       "  ('a', 'DET'),\n",
       "  ('nonexecutive', 'ADJ'),\n",
       "  ('director', 'NOUN'),\n",
       "  ('Nov.', 'NOUN'),\n",
       "  ('29', 'NUM'),\n",
       "  ('.', '.')],\n",
       " [('Mr.', 'NOUN'),\n",
       "  ('Vinken', 'NOUN'),\n",
       "  ('is', 'VERB'),\n",
       "  ('chairman', 'NOUN'),\n",
       "  ('of', 'ADP'),\n",
       "  ('Elsevier', 'NOUN'),\n",
       "  ('N.V.', 'NOUN'),\n",
       "  (',', '.'),\n",
       "  ('the', 'DET'),\n",
       "  ('Dutch', 'NOUN'),\n",
       "  ('publishing', 'VERB'),\n",
       "  ('group', 'NOUN'),\n",
       "  ('.', '.')],\n",
       " [('Rudolph', 'NOUN'),\n",
       "  ('Agnew', 'NOUN'),\n",
       "  (',', '.'),\n",
       "  ('55', 'NUM'),\n",
       "  ('years', 'NOUN'),\n",
       "  ('old', 'ADJ'),\n",
       "  ('and', 'CONJ'),\n",
       "  ('former', 'ADJ'),\n",
       "  ('chairman', 'NOUN'),\n",
       "  ('of', 'ADP'),\n",
       "  ('Consolidated', 'NOUN'),\n",
       "  ('Gold', 'NOUN'),\n",
       "  ('Fields', 'NOUN'),\n",
       "  ('PLC', 'NOUN'),\n",
       "  (',', '.'),\n",
       "  ('was', 'VERB'),\n",
       "  ('named', 'VERB'),\n",
       "  ('*-1', 'X'),\n",
       "  ('a', 'DET'),\n",
       "  ('nonexecutive', 'ADJ'),\n",
       "  ('director', 'NOUN'),\n",
       "  ('of', 'ADP'),\n",
       "  ('this', 'DET'),\n",
       "  ('British', 'ADJ'),\n",
       "  ('industrial', 'ADJ'),\n",
       "  ('conglomerate', 'NOUN'),\n",
       "  ('.', '.')]]"
      ]
     },
     "execution_count": 5,
     "metadata": {},
     "output_type": "execute_result"
    }
   ],
   "source": [
    "#First five sentences in the dataset\n",
    "nltk_data[:3]"
   ]
  },
  {
   "cell_type": "code",
   "execution_count": 6,
   "metadata": {},
   "outputs": [
    {
     "name": "stdout",
     "output_type": "stream",
     "text": [
      "3718\n",
      "196\n"
     ]
    }
   ],
   "source": [
    "# Setting the random seed to save the state of function\n",
    "random.seed(1234)\n",
    "\n",
    "# Divide the data into training and test sets\n",
    "train_data_set, test_data_set = train_test_split(nltk_data,train_size=0.95)\n",
    "\n",
    "# Get the length of training and test sets\n",
    "print(len(train_data_set))\n",
    "print(len(test_data_set))"
   ]
  },
  {
   "cell_type": "code",
   "execution_count": 7,
   "metadata": {},
   "outputs": [
    {
     "data": {
      "text/plain": [
       "95494"
      ]
     },
     "execution_count": 7,
     "metadata": {},
     "output_type": "execute_result"
    }
   ],
   "source": [
    "# Getting list of tagged words in training set\n",
    "train_tagged_words = [tup for sent in train_data_set for tup in sent]\n",
    "\n",
    "# Get the length of the total tagged words in training set\n",
    "len(train_tagged_words)"
   ]
  },
  {
   "cell_type": "code",
   "execution_count": 8,
   "metadata": {},
   "outputs": [
    {
     "data": {
      "text/plain": [
       "['The',\n",
       " 'Ministry',\n",
       " 'of',\n",
       " 'International',\n",
       " 'Trade',\n",
       " 'and',\n",
       " 'Industry',\n",
       " 'summoned',\n",
       " 'executives',\n",
       " 'from']"
      ]
     },
     "execution_count": 8,
     "metadata": {},
     "output_type": "execute_result"
    }
   ],
   "source": [
    "# Get the first 10 tokens in the training data set\n",
    "tokens = [pair[0] for pair in train_tagged_words]\n",
    "\n",
    "# list 10 tokens\n",
    "tokens[:10]"
   ]
  },
  {
   "cell_type": "code",
   "execution_count": 9,
   "metadata": {},
   "outputs": [
    {
     "name": "stdout",
     "output_type": "stream",
     "text": [
      "12088\n"
     ]
    }
   ],
   "source": [
    "# total unique words in training data set\n",
    "unique_words = set(tokens)\n",
    "print(len(unique_words))"
   ]
  },
  {
   "cell_type": "code",
   "execution_count": 10,
   "metadata": {},
   "outputs": [
    {
     "name": "stdout",
     "output_type": "stream",
     "text": [
      "12\n",
      "{'ADV', 'CONJ', 'PRON', 'ADJ', 'NUM', 'DET', '.', 'X', 'PRT', 'NOUN', 'ADP', 'VERB'}\n"
     ]
    }
   ],
   "source": [
    "# find the number of pos tags in the training corpus. As mentioned in the assignment, it should be 12.\n",
    "tags = set([pair[1] for pair in train_tagged_words])\n",
    "print(len(tags))\n",
    "print(tags)"
   ]
  },
  {
   "cell_type": "markdown",
   "metadata": {},
   "source": [
    "### Build the vanilla Viterbi based POS tagger"
   ]
  },
  {
   "cell_type": "code",
   "execution_count": 11,
   "metadata": {},
   "outputs": [],
   "source": [
    "# Create numpy array of no of pos tags by total vocabulary\n",
    "total_tags = len(tags)\n",
    "vocabulary = len(unique_words)\n",
    "\n",
    "# Getting word given tag\n",
    "w_given_t = np.zeros((total_tags, vocabulary))"
   ]
  },
  {
   "cell_type": "code",
   "execution_count": 12,
   "metadata": {},
   "outputs": [],
   "source": [
    "# Emission Probability: computing the probability of a word given a tag\n",
    "def word_given_tag(word, tag, train_bag = train_tagged_words):\n",
    "    tag_list = [pair for pair in train_bag if pair[1]==tag]\n",
    "    count_tag = len(tag_list)\n",
    "    w_given_tag_list = [pair[0] for pair in tag_list if pair[0]==word]\n",
    "    count_w_given_tag = len(w_given_tag_list)\n",
    "    \n",
    "    return (count_w_given_tag, count_tag)"
   ]
  },
  {
   "cell_type": "code",
   "execution_count": 13,
   "metadata": {},
   "outputs": [],
   "source": [
    "# Transition Probability: compute tag state t2 given tag state t1\n",
    "\n",
    "def t2_given_t1(t2, t1, train_bag = train_tagged_words):\n",
    "    tags = [pair[1] for pair in train_bag]\n",
    "    count_t1 = len([t for t in tags if t==t1])\n",
    "    count_t2_t1 = 0\n",
    "    for index in range(len(tags)-1):\n",
    "        if tags[index]==t1 and tags[index+1] == t2:\n",
    "            count_t2_t1 += 1\n",
    "    return (count_t2_t1, count_t1)"
   ]
  },
  {
   "cell_type": "code",
   "execution_count": 14,
   "metadata": {},
   "outputs": [],
   "source": [
    "# Now need to create a matrix of POS tags\n",
    "# creating t x t (pos tags x pos tags)transition matrix of tags\n",
    "# each column represents t2, each row is t1\n",
    "# thus Matrix(i, j) represents P(tj given ti)\n",
    "\n",
    "tags_matrix = np.zeros((len(tags), len(tags)), dtype='float32')\n",
    "for i, t1 in enumerate(list(tags)):\n",
    "    for j, t2 in enumerate(list(tags)): \n",
    "        tags_matrix[i, j] = t2_given_t1(t2, t1)[0]/t2_given_t1(t2, t1)[1]"
   ]
  },
  {
   "cell_type": "code",
   "execution_count": 15,
   "metadata": {},
   "outputs": [
    {
     "data": {
      "text/html": [
       "<div>\n",
       "<style scoped>\n",
       "    .dataframe tbody tr th:only-of-type {\n",
       "        vertical-align: middle;\n",
       "    }\n",
       "\n",
       "    .dataframe tbody tr th {\n",
       "        vertical-align: top;\n",
       "    }\n",
       "\n",
       "    .dataframe thead th {\n",
       "        text-align: right;\n",
       "    }\n",
       "</style>\n",
       "<table border=\"1\" class=\"dataframe\">\n",
       "  <thead>\n",
       "    <tr style=\"text-align: right;\">\n",
       "      <th></th>\n",
       "      <th>ADV</th>\n",
       "      <th>CONJ</th>\n",
       "      <th>PRON</th>\n",
       "      <th>ADJ</th>\n",
       "      <th>NUM</th>\n",
       "      <th>DET</th>\n",
       "      <th>.</th>\n",
       "      <th>X</th>\n",
       "      <th>PRT</th>\n",
       "      <th>NOUN</th>\n",
       "      <th>ADP</th>\n",
       "      <th>VERB</th>\n",
       "    </tr>\n",
       "  </thead>\n",
       "  <tbody>\n",
       "    <tr>\n",
       "      <th>ADV</th>\n",
       "      <td>0.080200</td>\n",
       "      <td>0.006323</td>\n",
       "      <td>0.014642</td>\n",
       "      <td>0.132113</td>\n",
       "      <td>0.030948</td>\n",
       "      <td>0.069884</td>\n",
       "      <td>0.134443</td>\n",
       "      <td>0.023627</td>\n",
       "      <td>0.014642</td>\n",
       "      <td>0.032612</td>\n",
       "      <td>0.119135</td>\n",
       "      <td>0.341431</td>\n",
       "    </tr>\n",
       "    <tr>\n",
       "      <th>CONJ</th>\n",
       "      <td>0.055738</td>\n",
       "      <td>0.000468</td>\n",
       "      <td>0.058548</td>\n",
       "      <td>0.117096</td>\n",
       "      <td>0.042155</td>\n",
       "      <td>0.119438</td>\n",
       "      <td>0.035597</td>\n",
       "      <td>0.007494</td>\n",
       "      <td>0.005152</td>\n",
       "      <td>0.350820</td>\n",
       "      <td>0.048244</td>\n",
       "      <td>0.159251</td>\n",
       "    </tr>\n",
       "    <tr>\n",
       "      <th>PRON</th>\n",
       "      <td>0.032634</td>\n",
       "      <td>0.005439</td>\n",
       "      <td>0.008159</td>\n",
       "      <td>0.076146</td>\n",
       "      <td>0.007382</td>\n",
       "      <td>0.009324</td>\n",
       "      <td>0.042347</td>\n",
       "      <td>0.089744</td>\n",
       "      <td>0.012044</td>\n",
       "      <td>0.209402</td>\n",
       "      <td>0.022533</td>\n",
       "      <td>0.484848</td>\n",
       "    </tr>\n",
       "    <tr>\n",
       "      <th>ADJ</th>\n",
       "      <td>0.004763</td>\n",
       "      <td>0.017080</td>\n",
       "      <td>0.000657</td>\n",
       "      <td>0.067335</td>\n",
       "      <td>0.021186</td>\n",
       "      <td>0.004763</td>\n",
       "      <td>0.064378</td>\n",
       "      <td>0.020529</td>\n",
       "      <td>0.010839</td>\n",
       "      <td>0.698144</td>\n",
       "      <td>0.078010</td>\n",
       "      <td>0.012317</td>\n",
       "    </tr>\n",
       "    <tr>\n",
       "      <th>NUM</th>\n",
       "      <td>0.002634</td>\n",
       "      <td>0.013169</td>\n",
       "      <td>0.001171</td>\n",
       "      <td>0.033363</td>\n",
       "      <td>0.185543</td>\n",
       "      <td>0.003219</td>\n",
       "      <td>0.118232</td>\n",
       "      <td>0.209833</td>\n",
       "      <td>0.026924</td>\n",
       "      <td>0.351478</td>\n",
       "      <td>0.035704</td>\n",
       "      <td>0.018730</td>\n",
       "    </tr>\n",
       "    <tr>\n",
       "      <th>DET</th>\n",
       "      <td>0.012926</td>\n",
       "      <td>0.000483</td>\n",
       "      <td>0.003262</td>\n",
       "      <td>0.204035</td>\n",
       "      <td>0.022832</td>\n",
       "      <td>0.005557</td>\n",
       "      <td>0.017637</td>\n",
       "      <td>0.045180</td>\n",
       "      <td>0.000242</td>\n",
       "      <td>0.637352</td>\n",
       "      <td>0.009906</td>\n",
       "      <td>0.040590</td>\n",
       "    </tr>\n",
       "    <tr>\n",
       "      <th>.</th>\n",
       "      <td>0.052580</td>\n",
       "      <td>0.057694</td>\n",
       "      <td>0.064154</td>\n",
       "      <td>0.044145</td>\n",
       "      <td>0.081920</td>\n",
       "      <td>0.174069</td>\n",
       "      <td>0.092867</td>\n",
       "      <td>0.027097</td>\n",
       "      <td>0.002243</td>\n",
       "      <td>0.222611</td>\n",
       "      <td>0.091969</td>\n",
       "      <td>0.088650</td>\n",
       "    </tr>\n",
       "    <tr>\n",
       "      <th>X</th>\n",
       "      <td>0.025814</td>\n",
       "      <td>0.010261</td>\n",
       "      <td>0.055315</td>\n",
       "      <td>0.016354</td>\n",
       "      <td>0.002886</td>\n",
       "      <td>0.054674</td>\n",
       "      <td>0.164983</td>\n",
       "      <td>0.074234</td>\n",
       "      <td>0.185506</td>\n",
       "      <td>0.062530</td>\n",
       "      <td>0.144460</td>\n",
       "      <td>0.202982</td>\n",
       "    </tr>\n",
       "    <tr>\n",
       "      <th>PRT</th>\n",
       "      <td>0.010194</td>\n",
       "      <td>0.002302</td>\n",
       "      <td>0.018415</td>\n",
       "      <td>0.084183</td>\n",
       "      <td>0.056889</td>\n",
       "      <td>0.102598</td>\n",
       "      <td>0.042091</td>\n",
       "      <td>0.013154</td>\n",
       "      <td>0.001644</td>\n",
       "      <td>0.245972</td>\n",
       "      <td>0.019730</td>\n",
       "      <td>0.402828</td>\n",
       "    </tr>\n",
       "    <tr>\n",
       "      <th>NOUN</th>\n",
       "      <td>0.016945</td>\n",
       "      <td>0.042437</td>\n",
       "      <td>0.004857</td>\n",
       "      <td>0.012417</td>\n",
       "      <td>0.009568</td>\n",
       "      <td>0.012892</td>\n",
       "      <td>0.240925</td>\n",
       "      <td>0.028705</td>\n",
       "      <td>0.043678</td>\n",
       "      <td>0.263969</td>\n",
       "      <td>0.176758</td>\n",
       "      <td>0.146812</td>\n",
       "    </tr>\n",
       "    <tr>\n",
       "      <th>ADP</th>\n",
       "      <td>0.013584</td>\n",
       "      <td>0.000642</td>\n",
       "      <td>0.069526</td>\n",
       "      <td>0.107712</td>\n",
       "      <td>0.063536</td>\n",
       "      <td>0.322922</td>\n",
       "      <td>0.040325</td>\n",
       "      <td>0.034228</td>\n",
       "      <td>0.001391</td>\n",
       "      <td>0.321104</td>\n",
       "      <td>0.016579</td>\n",
       "      <td>0.008450</td>\n",
       "    </tr>\n",
       "    <tr>\n",
       "      <th>VERB</th>\n",
       "      <td>0.081529</td>\n",
       "      <td>0.005139</td>\n",
       "      <td>0.035041</td>\n",
       "      <td>0.065099</td>\n",
       "      <td>0.023594</td>\n",
       "      <td>0.135259</td>\n",
       "      <td>0.034886</td>\n",
       "      <td>0.217412</td>\n",
       "      <td>0.031070</td>\n",
       "      <td>0.110497</td>\n",
       "      <td>0.091107</td>\n",
       "      <td>0.169366</td>\n",
       "    </tr>\n",
       "  </tbody>\n",
       "</table>\n",
       "</div>"
      ],
      "text/plain": [
       "           ADV      CONJ      PRON       ADJ       NUM       DET         .  \\\n",
       "ADV   0.080200  0.006323  0.014642  0.132113  0.030948  0.069884  0.134443   \n",
       "CONJ  0.055738  0.000468  0.058548  0.117096  0.042155  0.119438  0.035597   \n",
       "PRON  0.032634  0.005439  0.008159  0.076146  0.007382  0.009324  0.042347   \n",
       "ADJ   0.004763  0.017080  0.000657  0.067335  0.021186  0.004763  0.064378   \n",
       "NUM   0.002634  0.013169  0.001171  0.033363  0.185543  0.003219  0.118232   \n",
       "DET   0.012926  0.000483  0.003262  0.204035  0.022832  0.005557  0.017637   \n",
       ".     0.052580  0.057694  0.064154  0.044145  0.081920  0.174069  0.092867   \n",
       "X     0.025814  0.010261  0.055315  0.016354  0.002886  0.054674  0.164983   \n",
       "PRT   0.010194  0.002302  0.018415  0.084183  0.056889  0.102598  0.042091   \n",
       "NOUN  0.016945  0.042437  0.004857  0.012417  0.009568  0.012892  0.240925   \n",
       "ADP   0.013584  0.000642  0.069526  0.107712  0.063536  0.322922  0.040325   \n",
       "VERB  0.081529  0.005139  0.035041  0.065099  0.023594  0.135259  0.034886   \n",
       "\n",
       "             X       PRT      NOUN       ADP      VERB  \n",
       "ADV   0.023627  0.014642  0.032612  0.119135  0.341431  \n",
       "CONJ  0.007494  0.005152  0.350820  0.048244  0.159251  \n",
       "PRON  0.089744  0.012044  0.209402  0.022533  0.484848  \n",
       "ADJ   0.020529  0.010839  0.698144  0.078010  0.012317  \n",
       "NUM   0.209833  0.026924  0.351478  0.035704  0.018730  \n",
       "DET   0.045180  0.000242  0.637352  0.009906  0.040590  \n",
       ".     0.027097  0.002243  0.222611  0.091969  0.088650  \n",
       "X     0.074234  0.185506  0.062530  0.144460  0.202982  \n",
       "PRT   0.013154  0.001644  0.245972  0.019730  0.402828  \n",
       "NOUN  0.028705  0.043678  0.263969  0.176758  0.146812  \n",
       "ADP   0.034228  0.001391  0.321104  0.016579  0.008450  \n",
       "VERB  0.217412  0.031070  0.110497  0.091107  0.169366  "
      ]
     },
     "execution_count": 15,
     "metadata": {},
     "output_type": "execute_result"
    }
   ],
   "source": [
    "# convert the matrix to a dataframe for better readability/understanding\n",
    "tags_df = pd.DataFrame(tags_matrix, columns = list(tags), index=list(tags))\n",
    "tags_df"
   ]
  },
  {
   "cell_type": "code",
   "execution_count": 16,
   "metadata": {},
   "outputs": [
    {
     "data": {
      "image/png": "[encoded data removed]",
      "text/plain": [
       "<Figure size 1296x864 with 2 Axes>"
      ]
     },
     "metadata": {
      "needs_background": "light"
     },
     "output_type": "display_data"
    }
   ],
   "source": [
    "# constructing heatmap of tags matrix created in above step\n",
    "# It indicates P(tag j given tag i)\n",
    "plt.figure(figsize=(18, 12))\n",
    "sns.heatmap(tags_df)\n",
    "plt.show()"
   ]
  },
  {
   "cell_type": "code",
   "execution_count": 17,
   "metadata": {},
   "outputs": [
    {
     "data": {
      "image/png": "[encoded data removed]",
      "text/plain": [
       "<Figure size 1296x864 with 2 Axes>"
      ]
     },
     "metadata": {
      "needs_background": "light"
     },
     "output_type": "display_data"
    }
   ],
   "source": [
    "# frequent tags used and filter the df to get P(t2, t1) > 0.5\n",
    "tags_frequent = tags_df[tags_df>0.5]\n",
    "plt.figure(figsize=(18, 12))\n",
    "sns.heatmap(tags_frequent)\n",
    "plt.show()"
   ]
  },
  {
   "cell_type": "markdown",
   "metadata": {},
   "source": [
    "From the above graph, it is clear that noun-determinant and noun-adjective are highly corelated. We have taken the corelation index > 0.5."
   ]
  },
  {
   "cell_type": "code",
   "execution_count": 18,
   "metadata": {},
   "outputs": [],
   "source": [
    "# Logic to create Viterbi Heuristic\n",
    "def Viterbi(words, train_bag = train_tagged_words):\n",
    "    state = []\n",
    "    T = list(set([pair[1] for pair in train_bag]))\n",
    "    \n",
    "    for key, word in enumerate(words):\n",
    "        #initialise list of probability column for a given observation\n",
    "        p = [] \n",
    "        for tag in T:\n",
    "            if key == 0:\n",
    "                transition_p = tags_df.loc['.', tag]\n",
    "            else:\n",
    "                transition_p = tags_df.loc[state[-1], tag]\n",
    "                \n",
    "            # compute emission and state probabilities\n",
    "            emission_p = word_given_tag(words[key], tag)[0]/word_given_tag(words[key], tag)[1]\n",
    "            state_probability = emission_p * transition_p    \n",
    "            p.append(state_probability)\n",
    "            \n",
    "        pmax = max(p)\n",
    "        # getting state for which probability is maximum\n",
    "        state_max = T[p.index(pmax)] \n",
    "        state.append(state_max)\n",
    "    return list(zip(words, state))"
   ]
  },
  {
   "cell_type": "code",
   "execution_count": 19,
   "metadata": {},
   "outputs": [],
   "source": [
    "# Let's test our Viterbi algorithm on a few sample sentences of test dataset as \n",
    "# running on full data set will take more time\n",
    "# list of tagged words in test set\n",
    "test_run_base = [tup for sent in test_data_set for tup in sent]\n",
    "\n",
    "# list of  words which are untagged in test set\n",
    "test_tagged_words = [tup[0] for sent in test_data_set for tup in sent]"
   ]
  },
  {
   "cell_type": "code",
   "execution_count": 20,
   "metadata": {},
   "outputs": [],
   "source": [
    "# tagging the test sentences\n",
    "start = time.time()\n",
    "tagged_seq = Viterbi(test_tagged_words)\n",
    "end = time.time()"
   ]
  },
  {
   "cell_type": "code",
   "execution_count": 21,
   "metadata": {},
   "outputs": [
    {
     "name": "stdout",
     "output_type": "stream",
     "text": [
      "1003.7986407279968\n"
     ]
    }
   ],
   "source": [
    "# Total time taken to train the algorithm\n",
    "difference = end-start\n",
    "print(difference)"
   ]
  },
  {
   "cell_type": "code",
   "execution_count": 22,
   "metadata": {},
   "outputs": [
    {
     "name": "stdout",
     "output_type": "stream",
     "text": [
      "0.9108452335005789\n"
     ]
    }
   ],
   "source": [
    "# Get accuracy of model\n",
    "check = [i for i, j in zip(tagged_seq, test_run_base) if i == j] \n",
    "viterbi_accuracy = len(check)/len(tagged_seq)\n",
    "print(viterbi_accuracy)"
   ]
  },
  {
   "cell_type": "code",
   "execution_count": 23,
   "metadata": {},
   "outputs": [
    {
     "name": "stdout",
     "output_type": "stream",
     "text": [
      "Android is a mobile operating system developed by Google.\r\n",
      "\n",
      "Android has been the best-selling OS worldwide on smartphones since 2011 and on tablets since 2013.\r\n",
      "\n",
      "Google and Twitter made a deal in 2015 that gave Google access to Twitter's firehose.\r\n",
      "\n",
      "Twitter is an online news and social networking service on which users post and interact with messages known as tweets.\r\n",
      "\n",
      "Before entering politics, Donald Trump was a domineering businessman and a television personality.\r\n",
      "\n",
      "The 2018 FIFA World Cup is the 21st FIFA World Cup, an international football tournament contested once every four years.\r\n",
      "\n",
      "This is the first World Cup to be held in Eastern Europe and the 11th time that it has been held in Europe.\r\n",
      "\n",
      "Show me the cheapest round trips from Dallas to Atlanta\r\n",
      "\n",
      "I would like to see flights from Denver to Philadelphia.\r\n",
      "\n",
      "Show me the price of the flights leaving Atlanta at about 3 in the afternoon and arriving in San Francisco.\r\n",
      "\n",
      "NASA invited social media users to experience the launch of ICESAT-2 Satellite.\r\n",
      "\n",
      "\r\n",
      "\n",
      "\r\n",
      "\n",
      "\r\n",
      "\n"
     ]
    }
   ],
   "source": [
    "# Read the text file provided in assignment. This text file is present in the root directory of python notebook i.e in the same folder\n",
    "lines=[]\n",
    "text_content = codecs.open(\"Test_sentences.txt\", encoding='utf-8')\n",
    "for line in text_content:\n",
    "    print(line)\n",
    "    lines.append(line)"
   ]
  },
  {
   "cell_type": "markdown",
   "metadata": {},
   "source": [
    "### Solve the problem of unknown words"
   ]
  },
  {
   "cell_type": "code",
   "execution_count": 24,
   "metadata": {},
   "outputs": [
    {
     "data": {
      "text/plain": [
       "['Android is a mobile operating system developed by Google.\\r\\n',\n",
       " 'Android has been the best-selling OS worldwide on smartphones since 2011 and on tablets since 2013.\\r\\n',\n",
       " \"Google and Twitter made a deal in 2015 that gave Google access to Twitter's firehose.\\r\\n\",\n",
       " 'Twitter is an online news and social networking service on which users post and interact with messages known as tweets.\\r\\n',\n",
       " 'Before entering politics, Donald Trump was a domineering businessman and a television personality.\\r\\n',\n",
       " 'The 2018 FIFA World Cup is the 21st FIFA World Cup, an international football tournament contested once every four years.\\r\\n',\n",
       " 'This is the first World Cup to be held in Eastern Europe and the 11th time that it has been held in Europe.\\r\\n',\n",
       " 'Show me the cheapest round trips from Dallas to Atlanta\\r\\n',\n",
       " 'I would like to see flights from Denver to Philadelphia.\\r\\n',\n",
       " 'Show me the price of the flights leaving Atlanta at about 3 in the afternoon and arriving in San Francisco.\\r\\n',\n",
       " 'NASA invited social media users to experience the launch of ICESAT-2 Satellite.\\r\\n',\n",
       " '\\r\\n',\n",
       " '\\r\\n',\n",
       " '\\r\\n']"
      ]
     },
     "execution_count": 24,
     "metadata": {},
     "output_type": "execute_result"
    }
   ],
   "source": [
    "# print the content in lines array list\n",
    "lines"
   ]
  },
  {
   "cell_type": "code",
   "execution_count": 25,
   "metadata": {},
   "outputs": [
    {
     "data": {
      "text/plain": [
       "['Android is a mobile operating system developed by Google.',\n",
       " 'Android has been the best-selling OS worldwide on smartphones since 2011 and on tablets since 2013.',\n",
       " \"Google and Twitter made a deal in 2015 that gave Google access to Twitter's firehose.\",\n",
       " 'Twitter is an online news and social networking service on which users post and interact with messages known as tweets.',\n",
       " 'Before entering politics, Donald Trump was a domineering businessman and a television personality.',\n",
       " 'The 2018 FIFA World Cup is the 21st FIFA World Cup, an international football tournament contested once every four years.',\n",
       " 'This is the first World Cup to be held in Eastern Europe and the 11th time that it has been held in Europe.',\n",
       " 'Show me the cheapest round trips from Dallas to Atlanta',\n",
       " 'I would like to see flights from Denver to Philadelphia.',\n",
       " 'Show me the price of the flights leaving Atlanta at about 3 in the afternoon and arriving in San Francisco.',\n",
       " 'NASA invited social media users to experience the launch of ICESAT-2 Satellite.']"
      ]
     },
     "execution_count": 25,
     "metadata": {},
     "output_type": "execute_result"
    }
   ],
   "source": [
    "# Strip the special characters and empty strings in the list file\n",
    "test_lines =[sent.rstrip() for sent in lines if sent.rstrip()!='']\n",
    "test_lines"
   ]
  },
  {
   "cell_type": "code",
   "execution_count": 26,
   "metadata": {},
   "outputs": [
    {
     "data": {
      "text/plain": [
       "[[('.', '.'), (('Precious', 'ADV'), ('Precious', 'ADJ'))],\n",
       " [('being', 'VERB'), (('influenced', 'ADV'), ('influenced', 'VERB'))],\n",
       " [('*-1', 'X'), (('more', 'ADV'), ('more', 'ADJ'))],\n",
       " [('William', 'NOUN'), ((\"O'Neill\", 'ADV'), (\"O'Neill\", 'NOUN'))],\n",
       " [('at', 'ADP'), (('Elders', 'ADV'), ('Elders', 'NOUN'))],\n",
       " [('products', 'NOUN'), (('that', 'ADP'), ('that', 'DET'))],\n",
       " [('The', 'DET'), (('Fairlawn', 'ADV'), ('Fairlawn', 'NOUN'))],\n",
       " [('said', 'VERB'), (('that', 'ADP'), ('that', 'DET'))],\n",
       " [('that', 'DET'), (('full-year', 'ADV'), ('full-year', 'ADJ'))],\n",
       " [('full-year', 'ADJ'), (('profit', 'VERB'), ('profit', 'NOUN'))],\n",
       " [('$', '.'), (('148', 'ADV'), ('148', 'NUM'))],\n",
       " [('a', 'DET'), (('pre-approved', 'ADV'), ('pre-approved', 'ADJ'))],\n",
       " [('loan', 'NOUN'), (('up', 'PRT'), ('up', 'ADP'))],\n",
       " [('throws', 'VERB'), (('in', 'ADP'), ('in', 'PRT'))],\n",
       " [('*', 'X'), (('saving', 'ADV'), ('saving', 'VERB'))],\n",
       " [('pick', 'VERB'), (('up', 'ADV'), ('up', 'PRT'))],\n",
       " [('the', 'DET'), (('slack', 'ADJ'), ('slack', 'NOUN'))],\n",
       " [('experts', 'NOUN'), (('question', 'NOUN'), ('question', 'VERB'))],\n",
       " [('in', 'ADP'), (('Ilminster', 'ADV'), ('Ilminster', 'NOUN'))],\n",
       " [(',', '.'), (('Somerset', 'ADV'), ('Somerset', 'NOUN'))],\n",
       " [('silent', 'ADJ'), (('following', 'NOUN'), ('following', 'VERB'))],\n",
       " [('a', 'DET'), (('dust-up', 'ADV'), ('dust-up', 'NOUN'))],\n",
       " [('church', 'NOUN'), (('attendance', 'ADV'), ('attendance', 'NOUN'))],\n",
       " [('their', 'PRON'), (('views', 'VERB'), ('views', 'NOUN'))],\n",
       " [('.', '.'), (('Average', 'NOUN'), ('Average', 'ADJ'))],\n",
       " [('investments', 'NOUN'), (('lengthened', 'ADV'), ('lengthened', 'VERB'))],\n",
       " [('the', 'DET'), (('longest', 'ADV'), ('longest', 'ADJ'))],\n",
       " [('to', 'PRT'), (('Donoghue', 'ADV'), ('Donoghue', 'NOUN'))],\n",
       " [('*-1', 'X'), (('asserting', 'ADV'), ('asserting', 'VERB'))],\n",
       " [('a', 'DET'), (('greenmailer', 'ADV'), ('greenmailer', 'NOUN'))],\n",
       " [('to', 'PRT'), (('pressure', 'NOUN'), ('pressure', 'VERB'))],\n",
       " [('.', '.'), (('ABORTION', 'ADV'), ('ABORTION', 'NOUN'))],\n",
       " [('ABORTION', 'NOUN'), (('RULING', 'ADV'), ('RULING', 'NOUN'))],\n",
       " [('RULING', 'NOUN'), (('UPHELD', 'ADV'), ('UPHELD', 'VERB'))],\n",
       " [('--', '.'), (('Contracts', 'ADV'), ('Contracts', 'NOUN'))],\n",
       " [('by', 'ADP'), (('Royal', 'ADV'), ('Royal', 'NOUN'))],\n",
       " [('Royal', 'NOUN'), (('Trustco', 'ADV'), ('Trustco', 'NOUN'))],\n",
       " [('$', '.'), (('212', 'ADV'), ('212', 'NUM'))],\n",
       " [('edged', 'VERB'), (('up', 'ADV'), ('up', 'ADP'))],\n",
       " [('thrift', 'NOUN'), (('might', 'VERB'), ('might', 'NOUN'))],\n",
       " [('might', 'NOUN'), (('restructure', 'NOUN'), ('restructure', 'VERB'))],\n",
       " [('of', 'ADP'), (('fronts', 'ADV'), ('fronts', 'NOUN'))],\n",
       " [('that', 'ADP'), (('severance', 'ADV'), ('severance', 'NOUN'))],\n",
       " [('not', 'ADV'), (('staying', 'ADV'), ('staying', 'VERB'))],\n",
       " [(\"'s\", 'PRT'), (('operating', 'VERB'), ('operating', 'NOUN'))],\n",
       " [('Union', 'NOUN'), (('Planters', 'ADV'), ('Planters', 'NOUN'))],\n",
       " [('of', 'ADP'), (('Memphis', 'ADV'), ('Memphis', 'NOUN'))],\n",
       " [(',', '.'), (('Tenn.', 'ADV'), ('Tenn.', 'NOUN'))],\n",
       " [('The', 'DET'), (('Edge', 'ADV'), ('Edge', 'NOUN'))],\n",
       " [('Edge', 'NOUN'), (('account', 'VERB'), ('account', 'NOUN'))],\n",
       " [('``', '.'), (('thirtysomething', 'ADV'), ('thirtysomething', 'NOUN'))],\n",
       " [(\"''\", '.'), (('crowd', 'ADV'), ('crowd', 'NOUN'))],\n",
       " [('services', 'NOUN'), (('that', 'ADP'), ('that', 'DET'))],\n",
       " [('that', 'DET'), (('*T*-197', 'ADV'), ('*T*-197', 'X'))],\n",
       " [('point', 'NOUN'), (('off', 'PRT'), ('off', 'ADV'))],\n",
       " [('a', 'DET'), (('sharper', 'ADV'), ('sharper', 'ADJ'))],\n",
       " [('*U*', 'X'), (('decline', 'VERB'), ('decline', 'NOUN'))],\n",
       " [('$', '.'), (('86.12', 'ADV'), ('86.12', 'NUM'))],\n",
       " [('how', 'ADV'), (('much', 'ADV'), ('much', 'ADJ'))],\n",
       " [('too', 'ADV'), (('upset', 'VERB'), ('upset', 'ADJ'))],\n",
       " [('with', 'ADP'), (('even', 'ADV'), ('even', 'ADJ'))],\n",
       " [('day', 'NOUN'), (('up', 'PRT'), ('up', 'ADV'))],\n",
       " [('-LRB-', '.'), (('56', 'ADV'), ('56', 'NUM'))],\n",
       " [('to', 'PRT'), (('1,880', 'ADV'), ('1,880', 'NUM'))],\n",
       " [('$', '.'), (('13.15', 'ADV'), ('13.15', 'NUM'))],\n",
       " [(\"'s\", 'PRT'), (('net', 'ADJ'), ('net', 'NOUN'))],\n",
       " [('Richard', 'NOUN'), (('Breeden', 'ADV'), ('Breeden', 'NOUN'))],\n",
       " [('circuit', 'NOUN'), (('breakers', 'ADV'), ('breakers', 'NOUN'))],\n",
       " [('breakers', 'NOUN'), (('that', 'ADP'), ('that', 'DET'))],\n",
       " [('that', 'DET'), (('*T*-215', 'ADV'), ('*T*-215', 'X'))],\n",
       " [('succeeds', 'VERB'), (('Terrence', 'ADV'), ('Terrence', 'NOUN'))],\n",
       " [('D.', 'NOUN'), (('Daniels', 'ADV'), ('Daniels', 'NOUN'))],\n",
       " [('100', 'NUM'), (('criminal', 'ADJ'), ('criminal', 'NOUN'))],\n",
       " [('an', 'DET'), (('outcry', 'ADV'), ('outcry', 'NOUN'))],\n",
       " [('the', 'DET'), (('organized', 'VERB'), ('organized', 'ADJ'))],\n",
       " [('organized', 'ADJ'), (('bar', 'VERB'), ('bar', 'NOUN'))],\n",
       " [('who', 'PRON'), (('*T*-125', 'ADV'), ('*T*-125', 'X'))],\n",
       " [('is', 'VERB'), (('protected', 'ADV'), ('protected', 'VERB'))],\n",
       " [('Joseph', 'NOUN'), (('Napolitan', 'ADV'), ('Napolitan', 'NOUN'))],\n",
       " [('to', 'PRT'), (('attack', 'NOUN'), ('attack', 'VERB'))],\n",
       " [('attack', 'VERB'), (('first', 'ADJ'), ('first', 'ADV'))],\n",
       " [(',', '.'), (('last', 'ADJ'), ('last', 'ADV'))],\n",
       " [('a', 'DET'), (('rash', 'ADV'), ('rash', 'NOUN'))],\n",
       " [('portfolios', 'NOUN'), (('that', 'ADP'), ('that', 'DET'))],\n",
       " [('*', 'X'), (('reinstating', 'ADV'), ('reinstating', 'VERB'))],\n",
       " [('they', 'PRON'), (('own', 'ADJ'), ('own', 'VERB'))],\n",
       " [('are', 'VERB'), (('fond', 'ADV'), ('fond', 'ADJ'))],\n",
       " [('are', 'VERB'), (('blocked', 'ADV'), ('blocked', 'VERB'))],\n",
       " [('blocked', 'VERB'), (('*-159', 'ADV'), ('*-159', 'X'))],\n",
       " [('simply', 'ADV'), (('emigrate', 'ADV'), ('emigrate', 'VERB'))],\n",
       " [(\"'s\", 'PRT'), (('estimate', 'VERB'), ('estimate', 'NOUN'))],\n",
       " [('``', '.'), (('that', 'DET'), ('that', 'ADP'))],\n",
       " [('not', 'ADV'), (('intend', 'ADV'), ('intend', 'VERB'))],\n",
       " [('to', 'PRT'), (('preclude', 'ADV'), ('preclude', 'VERB'))],\n",
       " [('*', 'X'), (('disseminating', 'ADV'), ('disseminating', 'VERB'))],\n",
       " [('J.', 'NOUN'), (('Landis', 'ADV'), ('Landis', 'NOUN'))],\n",
       " [('and', 'CONJ'), (('chief', 'NOUN'), ('chief', 'ADJ'))],\n",
       " [('transaction', 'NOUN'), (('that', 'ADP'), ('that', 'DET'))],\n",
       " [('that', 'DET'), (('*T*-180', 'ADV'), ('*T*-180', 'X'))],\n",
       " [('included', 'VERB'), (('about', 'ADP'), ('about', 'ADV'))],\n",
       " [('``', '.'), (('little', 'ADV'), ('little', 'ADJ'))],\n",
       " [('little', 'ADJ'), (('tigers', 'ADV'), ('tigers', 'NOUN'))],\n",
       " [('remain', 'VERB'), (('subordinate', 'ADV'), ('subordinate', 'ADJ'))],\n",
       " [('letters', 'NOUN'), (('explaining', 'ADV'), ('explaining', 'VERB'))],\n",
       " [('will', 'VERB'), (('end', 'NOUN'), ('end', 'VERB'))],\n",
       " [(',', '.'), (('Reuter', 'ADV'), ('Reuter', 'NOUN'))],\n",
       " [('of', 'ADP'), (('emergency', 'ADV'), ('emergency', 'NOUN'))],\n",
       " [('in', 'ADP'), (('copper-rich', 'ADV'), ('copper-rich', 'ADJ'))],\n",
       " [('.', '.'), (('Institutions', 'ADV'), ('Institutions', 'NOUN'))],\n",
       " [('year', 'NOUN'), (('earlier', 'ADV'), ('earlier', 'ADJ'))],\n",
       " [('feel', 'VERB'), (('sorry', 'ADV'), ('sorry', 'ADJ'))],\n",
       " [('in', 'ADP'), (('embarrassing', 'ADV'), ('embarrassing', 'ADJ'))],\n",
       " [('*', 'X'), (('Forget', 'ADV'), ('Forget', 'VERB'))],\n",
       " [('he', 'PRON'), (('handed', 'ADV'), ('handed', 'VERB'))],\n",
       " [('far', 'ADV'), (('less', 'ADJ'), ('less', 'ADV'))],\n",
       " [('Japanese', 'ADJ'), (('penetration', 'ADV'), ('penetration', 'NOUN'))],\n",
       " [('Their', 'PRON'), (('report', 'VERB'), ('report', 'NOUN'))],\n",
       " [('the', 'DET'), (('journal', 'ADV'), ('journal', 'NOUN'))],\n",
       " [('journal', 'NOUN'), (('Nature', 'ADV'), ('Nature', 'NOUN'))],\n",
       " [('The', 'DET'), (('restaurant', 'ADV'), ('restaurant', 'NOUN'))],\n",
       " [('conversations', 'NOUN'), (('that', 'ADP'), ('that', 'DET'))],\n",
       " [('including', 'VERB'), (('air', 'VERB'), ('air', 'NOUN'))],\n",
       " [('air', 'NOUN'), (('bags', 'ADV'), ('bags', 'NOUN'))],\n",
       " [('in', 'ADP'), (('front', 'NOUN'), ('front', 'ADJ'))],\n",
       " [('improved', 'VERB'), (('side-crash', 'ADV'), ('side-crash', 'ADJ'))],\n",
       " [('II', 'NOUN'), (('that', 'ADP'), ('that', 'DET'))],\n",
       " [('the', 'DET'), (('discretion', 'ADV'), ('discretion', 'NOUN'))],\n",
       " [('to', 'PRT'), (('select', 'ADV'), ('select', 'VERB'))],\n",
       " [('it', 'PRON'), (('reviewed', 'ADV'), ('reviewed', 'VERB'))],\n",
       " [('proposal', 'NOUN'), (('as', 'ADP'), ('as', 'ADV'))],\n",
       " [('business', 'NOUN'), (('combinations', 'ADV'), ('combinations', 'NOUN'))],\n",
       " [('and', 'CONJ'), (('prosecuted', 'ADV'), ('prosecuted', 'VERB'))],\n",
       " [('law', 'NOUN'), (('that', 'ADP'), ('that', 'DET'))],\n",
       " [('no', 'DET'), (('crack', 'VERB'), ('crack', 'NOUN'))],\n",
       " [('no', 'DET'), (('dead-eyed', 'ADV'), ('dead-eyed', 'ADJ'))],\n",
       " [('selling', 'VERB'), (('four-year-old', 'ADV'), ('four-year-old', 'ADJ'))],\n",
       " [('of', 'ADP'), (('Cosmopolitan', 'ADV'), ('Cosmopolitan', 'NOUN'))],\n",
       " [('no', 'DET'), (('one', 'NUM'), ('one', 'PRON'))],\n",
       " [('one', 'PRON'), (('curled', 'ADV'), ('curled', 'VERB'))],\n",
       " [('curled', 'VERB'), (('up', 'ADV'), ('up', 'PRT'))],\n",
       " [('to', 'PRT'), (('issue', 'NOUN'), ('issue', 'VERB'))],\n",
       " [('their', 'PRON'), (('wrath', 'ADV'), ('wrath', 'NOUN'))],\n",
       " [('the', 'DET'), (('statue', 'ADV'), ('statue', 'NOUN'))],\n",
       " [('Thomas', 'NOUN'), (('Jefferson', 'ADV'), ('Jefferson', 'NOUN'))],\n",
       " [('Jefferson', 'NOUN'), (('dissolves', 'ADV'), ('dissolves', 'VERB'))],\n",
       " [('take', 'VERB'), (('away', 'ADV'), ('away', 'PRT'))],\n",
       " [('tariff', 'NOUN'),\n",
       "  (('classifications', 'ADV'), ('classifications', 'NOUN'))],\n",
       " [('to', 'PRT'), (('buffet', 'NOUN'), ('buffet', 'VERB'))],\n",
       " [('from', 'ADP'), (('cycles', 'ADV'), ('cycles', 'NOUN'))],\n",
       " [('*-1', 'X'), (('Encouraged', 'ADV'), ('Encouraged', 'ADJ'))],\n",
       " [('taught', 'VERB'), (('honor', 'VERB'), ('honor', 'NOUN'))],\n",
       " [('and', 'CONJ'), (('work', 'NOUN'), ('work', 'VERB'))],\n",
       " [('*-37', 'X'), (('out', 'PRT'), ('out', 'ADP'))],\n",
       " [('power', 'NOUN'), (('that', 'ADP'), ('that', 'DET'))],\n",
       " [('members', 'NOUN'), (('intend', 'ADV'), ('intend', 'VERB'))],\n",
       " [('to', 'PRT'), (('wield', 'ADV'), ('wield', 'VERB'))],\n",
       " [('.', '.'), (('Dreyfus', 'ADV'), ('Dreyfus', 'NOUN'))],\n",
       " [('Dreyfus', 'NOUN'), (('World-Wide', 'ADV'), ('World-Wide', 'NOUN'))],\n",
       " [('the', 'DET'), (('top-yielding', 'ADV'), ('top-yielding', 'ADJ'))],\n",
       " [('top-yielding', 'ADJ'), (('fund', 'VERB'), ('fund', 'NOUN'))],\n",
       " [('compound', 'NOUN'), (('yield', 'VERB'), ('yield', 'NOUN'))],\n",
       " [('of', 'ADP'), (('9.37', 'ADV'), ('9.37', 'NUM'))],\n",
       " [('from', 'ADP'), (('9.45', 'ADV'), ('9.45', 'NUM'))],\n",
       " [('week', 'NOUN'), (('earlier', 'ADV'), ('earlier', 'ADJ'))],\n",
       " [('giant', 'ADJ'), (('diagram', 'ADV'), ('diagram', 'NOUN'))],\n",
       " [('with', 'ADP'), (('arrows', 'ADV'), ('arrows', 'NOUN'))],\n",
       " [(\"'s\", 'PRT'), (('polystyrene', 'ADV'), ('polystyrene', 'NOUN'))],\n",
       " [('polystyrene', 'NOUN'), (('foam', 'ADV'), ('foam', 'NOUN'))],\n",
       " [(',', '.'), (('polyproplene', 'ADV'), ('polyproplene', 'NOUN'))],\n",
       " [('and', 'CONJ'), (('polyester', 'ADV'), ('polyester', 'NOUN'))],\n",
       " [('all', 'DET'), (('plastic', 'ADJ'), ('plastic', 'NOUN'))],\n",
       " [('are', 'VERB'),\n",
       "  (('non-biodegradable', 'ADV'), ('non-biodegradable', 'ADJ'))],\n",
       " [('forced', 'VERB'), (('*-158', 'ADV'), ('*-158', 'X'))],\n",
       " [('registered', 'VERB'), (('reps', 'ADV'), ('reps', 'NOUN'))],\n",
       " [('and', 'CONJ'), (('security-type', 'ADV'), ('security-type', 'ADJ'))],\n",
       " [('training', 'NOUN'), (('so', 'ADV'), ('so', 'ADP'))],\n",
       " [('stupid', 'ADJ'), (('mistakes', 'ADV'), ('mistakes', 'NOUN'))],\n",
       " [(\"''\", '.'), (('Billings', 'ADV'), ('Billings', 'NOUN'))],\n",
       " [('which', 'DET'), (('*T*-155', 'ADV'), ('*T*-155', 'X'))],\n",
       " [('been', 'VERB'), (('serviced', 'ADV'), ('serviced', 'VERB'))],\n",
       " [('``', '.'), ((\"C'mon\", 'ADV'), (\"C'mon\", 'VERB'))],\n",
       " [('have', 'VERB'), (('boyfriends', 'ADV'), ('boyfriends', 'NOUN'))],\n",
       " [('``', '.'), (('minority-owned', 'ADV'), ('minority-owned', 'ADJ'))],\n",
       " [('a', 'DET'), (('blighted', 'ADV'), ('blighted', 'ADJ'))],\n",
       " [('*', 'X'), (('famous', 'ADV'), ('famous', 'ADJ'))],\n",
       " [('by', 'ADP'), (('Jimmy', 'ADV'), ('Jimmy', 'NOUN'))],\n",
       " [('$', '.'), (('20.07', 'ADV'), ('20.07', 'NUM'))],\n",
       " [('is', 'VERB'), (('sufficient', 'ADV'), ('sufficient', 'ADJ'))],\n",
       " [('tight', 'ADJ'), (('facial', 'ADV'), ('facial', 'ADJ'))],\n",
       " [('facial', 'ADJ'), (('shot', 'VERB'), ('shot', 'NOUN'))],\n",
       " [('been', 'VERB'), (('striving', 'ADV'), ('striving', 'VERB'))],\n",
       " [('colleagues', 'NOUN'), (('dislike', 'NOUN'), ('dislike', 'VERB'))],\n",
       " [('a', 'DET'), (('handful', 'ADV'), ('handful', 'NOUN'))],\n",
       " [('and', 'CONJ'), (('Adolph', 'ADV'), ('Adolph', 'NOUN'))],\n",
       " [('Adolph', 'NOUN'), (('Coors', 'ADV'), ('Coors', 'NOUN'))],\n",
       " [('and', 'CONJ'), (('Bumkins', 'ADV'), ('Bumkins', 'NOUN'))],\n",
       " [('firms', 'NOUN'), (('that', 'ADP'), ('that', 'DET'))],\n",
       " [('that', 'DET'), (('*T*-154', 'ADV'), ('*T*-154', 'X'))],\n",
       " [('spend', 'VERB'), (('much', 'ADV'), ('much', 'ADJ'))],\n",
       " [('be', 'VERB'), (('relied', 'ADV'), ('relied', 'VERB'))],\n",
       " [('.', '.'), (('Personal', 'ADV'), ('Personal', 'ADJ'))],\n",
       " [('Intel', 'NOUN'), (('286', 'ADV'), ('286', 'NUM'))],\n",
       " [('386', 'NUM'), (('microprocessors', 'ADV'), ('microprocessors', 'NOUN'))],\n",
       " [('coming', 'VERB'), (('down', 'ADV'), ('down', 'ADP'))],\n",
       " [('an', 'DET'), (('inspirational', 'ADV'), ('inspirational', 'ADJ'))],\n",
       " [('it', 'PRON'), (('all', 'DET'), ('all', 'ADV'))],\n",
       " [('*T*-1', 'X'), (('Laura', 'ADV'), ('Laura', 'NOUN'))],\n",
       " [('Laura', 'NOUN'), (('Dobson', 'ADV'), ('Dobson', 'NOUN'))],\n",
       " [('a', 'DET'), (('freshman', 'ADV'), ('freshman', 'NOUN'))],\n",
       " [('who', 'PRON'), (('*T*-90', 'ADV'), ('*T*-90', 'X'))],\n",
       " [('the', 'DET'), (('teacher-cadet', 'ADV'), ('teacher-cadet', 'ADJ'))],\n",
       " [('.', '.'), (('J.P.', 'ADV'), ('J.P.', 'NOUN'))],\n",
       " [('J.P.', 'NOUN'), (('Bolduc', 'ADV'), ('Bolduc', 'NOUN'))],\n",
       " [('a', 'DET'), (('83.4', 'ADV'), ('83.4', 'NUM'))],\n",
       " [('this', 'DET'), (('energy-services', 'ADV'), ('energy-services', 'ADJ'))],\n",
       " [('.', '.'), (('Documents', 'ADV'), ('Documents', 'NOUN'))],\n",
       " [('the', 'DET'), (('product-design', 'ADV'), ('product-design', 'ADJ'))],\n",
       " [('product-design', 'ADJ'), (('project', 'VERB'), ('project', 'NOUN'))],\n",
       " [('he', 'PRON'), (('heads', 'NOUN'), ('heads', 'VERB'))],\n",
       " [('is', 'VERB'), (('scrapped', 'ADV'), ('scrapped', 'VERB'))],\n",
       " [('*', 'X'), (('photocopying', 'ADV'), ('photocopying', 'VERB'))],\n",
       " [('at', 'ADP'), (('mid-afternoon', 'ADV'), ('mid-afternoon', 'ADJ'))],\n",
       " [('at', 'ADP'), (('260', 'ADV'), ('260', 'NUM'))],\n",
       " [('``', '.'), (('Professional', 'NOUN'), ('Professional', 'ADJ'))],\n",
       " [('get', 'VERB'), (('enough', 'ADV'), ('enough', 'ADJ'))],\n",
       " [('The', 'DET'), (('minimum-wage', 'ADV'), ('minimum-wage', 'NOUN'))],\n",
       " [('Wilder', 'NOUN'), (('talks', 'NOUN'), ('talks', 'VERB'))],\n",
       " [('stocks', 'NOUN'), (('that', 'ADP'), ('that', 'DET'))],\n",
       " [('that', 'DET'), (('*T*-117', 'ADV'), ('*T*-117', 'X'))],\n",
       " [('to', 'PRT'), (('uptick', 'NOUN'), ('uptick', 'VERB'))],\n",
       " [(',', '.'), (('head', 'NOUN'), ('head', 'ADJ'))],\n",
       " [('base', 'NOUN'), (('pay', 'VERB'), ('pay', 'NOUN'))],\n",
       " [('U.S.', 'NOUN'), (('encourages', 'ADV'), ('encourages', 'VERB'))],\n",
       " [('to', 'PRT'), (('share', 'NOUN'), ('share', 'VERB'))],\n",
       " [('economic', 'ADJ'), (('burdens', 'ADV'), ('burdens', 'NOUN'))],\n",
       " [('Futures', 'NOUN'), (('Contracts', 'ADV'), ('Contracts', 'NOUN'))],\n",
       " [('--', '.'), (('Obligations', 'ADV'), ('Obligations', 'NOUN'))],\n",
       " [('financial', 'ADJ'), (('instrument', 'ADV'), ('instrument', 'NOUN'))],\n",
       " [('the', 'DET'), (('agreed-upon', 'ADV'), ('agreed-upon', 'ADJ'))],\n",
       " [('they', 'PRON'), (('own', 'ADJ'), ('own', 'VERB'))],\n",
       " [('This', 'DET'), (('species', 'ADV'), ('species', 'NOUN'))],\n",
       " [('is', 'VERB'), (('predicated', 'ADV'), ('predicated', 'VERB'))],\n",
       " [('clause', 'NOUN'), (('that', 'ADP'), ('that', 'DET'))],\n",
       " [('is', 'VERB'), (('erroneous', 'ADV'), ('erroneous', 'ADJ'))],\n",
       " [('With', 'ADP'), (('lipsticks', 'ADV'), ('lipsticks', 'NOUN'))],\n",
       " [(',', '.'), (('liners', 'ADV'), ('liners', 'NOUN'))],\n",
       " [(',', '.'), (('lotions', 'ADV'), ('lotions', 'NOUN'))],\n",
       " [('and', 'CONJ'), (('creams', 'ADV'), ('creams', 'NOUN'))],\n",
       " [('beauty', 'NOUN'), (('plans', 'VERB'), ('plans', 'NOUN'))],\n",
       " [('to', 'PRT'), (('tackle', 'ADV'), ('tackle', 'VERB'))],\n",
       " [('seems', 'VERB'), (('That', 'DET'), ('That', 'ADP'))],\n",
       " [('I', 'PRON'), (('paint', 'ADV'), ('paint', 'VERB'))],\n",
       " [('should', 'VERB'), (('spackle', 'ADV'), ('spackle', 'VERB'))],\n",
       " [('.', '.'), (('GRAINS', 'ADV'), ('GRAINS', 'NOUN'))],\n",
       " [('GRAINS', 'NOUN'), (('AND', 'ADV'), ('AND', 'NOUN'))],\n",
       " [('AND', 'NOUN'), (('SOYBEANS', 'ADV'), ('SOYBEANS', 'NOUN'))],\n",
       " [('happen', 'VERB'), (('down', 'ADV'), ('down', 'ADP'))],\n",
       " [('to', 'PRT'), (('erode', 'ADV'), ('erode', 'VERB'))],\n",
       " [(\"''\", '.'), (('Factories', 'ADV'), ('Factories', 'NOUN'))],\n",
       " [('Factories', 'NOUN'), (('booked', 'ADV'), ('booked', 'VERB'))],\n",
       " [('$', '.'), (('236.74', 'ADV'), ('236.74', 'NUM'))],\n",
       " [('$', '.'), (('236.79', 'ADV'), ('236.79', 'NUM'))],\n",
       " [('.', '.'), (('Compound', 'ADV'), ('Compound', 'NOUN'))],\n",
       " [('assume', 'VERB'), (('reinvestment', 'ADV'), ('reinvestment', 'NOUN'))],\n",
       " [('and', 'CONJ'), (('that', 'DET'), ('that', 'ADP'))],\n",
       " [('But', 'CONJ'), (('C.J.B.', 'ADV'), ('C.J.B.', 'NOUN'))],\n",
       " [('a', 'DET'), (('nearby', 'ADV'), ('nearby', 'ADJ'))],\n",
       " [('the', 'DET'), (('stairs', 'ADV'), ('stairs', 'NOUN'))],\n",
       " [('tower', 'NOUN'), (('that', 'ADP'), ('that', 'DET'))],\n",
       " [('located', 'VERB'), (('*-138', 'ADV'), ('*-138', 'X'))],\n",
       " [('the', 'DET'), (('altar', 'ADV'), ('altar', 'NOUN'))],\n",
       " [('Market', 'NOUN'), (('Deposits-a', 'ADV'), ('Deposits-a', 'NOUN'))],\n",
       " [('Deposits-a', 'NOUN'), (('6.21', 'ADV'), ('6.21', 'NUM'))],\n",
       " [('%', 'NOUN'), (('Private', 'NOUN'), ('Private', 'ADJ'))],\n",
       " [('.', '.'), (('Defending', 'ADV'), ('Defending', 'VERB'))],\n",
       " [('their', 'PRON'), (('ramparts', 'ADV'), ('ramparts', 'NOUN'))],\n",
       " [(',', '.'), (('stock-picking', 'ADV'), ('stock-picking', 'ADJ'))],\n",
       " [(',', '.'), (('tens', 'ADV'), ('tens', 'NOUN'))],\n",
       " [('the', 'DET'), (('clannish', 'ADV'), ('clannish', 'ADJ'))],\n",
       " [('But', 'CONJ'), (('civilization', 'ADV'), ('civilization', 'NOUN'))],\n",
       " [('Street', 'NOUN'), (('reacted', 'ADV'), ('reacted', 'VERB'))],\n",
       " [('$', '.'), (('57.7', 'ADV'), ('57.7', 'NUM'))],\n",
       " [('the', 'DET'), (('past', 'ADJ'), ('past', 'NOUN'))],\n",
       " [('II', 'NOUN'), (('lend-lease', 'ADV'), ('lend-lease', 'ADJ'))],\n",
       " [('was', 'VERB'), (('executive', 'ADJ'), ('executive', 'NOUN'))],\n",
       " [('this', 'DET'),\n",
       "  (('electric-utility', 'ADV'), ('electric-utility', 'NOUN'))],\n",
       " [('electric-utility', 'NOUN'), (('holding', 'VERB'), ('holding', 'NOUN'))],\n",
       " [('company', 'NOUN'), (('distributed', 'ADV'), ('distributed', 'VERB'))],\n",
       " [(\"'s\", 'PRT'), (('unitholders', 'ADV'), ('unitholders', 'NOUN'))],\n",
       " [('in', 'ADP'), (('Chinchon', 'ADV'), ('Chinchon', 'NOUN'))],\n",
       " [('and', 'CONJ'), (('diversifying', 'ADV'), ('diversifying', 'VERB'))],\n",
       " [('he', 'PRON'), (('spoke', 'ADV'), ('spoke', 'VERB'))],\n",
       " [('at', 'ADP'), (('length', 'ADV'), ('length', 'NOUN'))],\n",
       " [('nowhere', 'ADV'), (('near', 'ADP'), ('near', 'ADJ'))],\n",
       " [('strains', 'NOUN'), (('that', 'ADP'), ('that', 'DET'))],\n",
       " [('that', 'DET'), (('*T*-239', 'ADV'), ('*T*-239', 'X'))],\n",
       " [('recently', 'ADV'), (('afflicted', 'ADV'), ('afflicted', 'VERB'))],\n",
       " [('the', 'DET'), (('Sino-U.S.', 'ADJ'), ('Sino-U.S.', 'NOUN'))],\n",
       " [('would', 'VERB'), (('destroy', 'ADV'), ('destroy', 'VERB'))],\n",
       " [('pricing', 'NOUN'), (('efficiency', 'ADV'), ('efficiency', 'NOUN'))],\n",
       " [('who', 'PRON'), (('*T*-135', 'ADV'), ('*T*-135', 'X'))],\n",
       " [('and', 'CONJ'), (('that', 'DET'), ('that', 'ADP'))],\n",
       " [('any', 'DET'), (('punishment', 'ADV'), ('punishment', 'NOUN'))],\n",
       " [('E.', 'NOUN'), (('Nelms', 'ADV'), ('Nelms', 'NOUN'))],\n",
       " [('and', 'CONJ'), (('chief', 'NOUN'), ('chief', 'ADJ'))],\n",
       " [('open', 'ADJ'),\n",
       "  (('direct-investment', 'ADV'), ('direct-investment', 'ADJ'))],\n",
       " [('like', 'ADP'), (('Grgich', 'ADV'), ('Grgich', 'NOUN'))],\n",
       " [('Hills', 'NOUN'), (('Chardonnay', 'ADV'), ('Chardonnay', 'NOUN'))],\n",
       " [('slow', 'VERB'), (('down', 'ADV'), ('down', 'PRT'))],\n",
       " [('high-priced', 'ADJ'), (('red', 'NOUN'), ('red', 'ADJ'))],\n",
       " [('and', 'CONJ'), (('Chardonnays', 'ADV'), ('Chardonnays', 'NOUN'))],\n",
       " [('*U*', 'X'), (('range', 'VERB'), ('range', 'NOUN'))],\n",
       " [('.', '.'), (('Output', 'ADV'), ('Output', 'NOUN'))],\n",
       " [('it', 'PRON'), (('reaches', 'ADV'), ('reaches', 'VERB'))],\n",
       " [(\"'s\", 'PRT'), (('forecast', 'VERB'), ('forecast', 'NOUN'))],\n",
       " [('potential', 'ADJ'), (('bidder', 'ADV'), ('bidder', 'NOUN'))],\n",
       " [('an', 'DET'), (('inauspicious', 'ADV'), ('inauspicious', 'ADJ'))],\n",
       " [('inauspicious', 'ADJ'), (('beginning', 'VERB'), ('beginning', 'NOUN'))],\n",
       " [('.', '.'), (('Dividend', 'ADV'), ('Dividend', 'NOUN'))],\n",
       " [('expected', 'VERB'), (('*-142', 'ADV'), ('*-142', 'X'))],\n",
       " [(\"'s\", 'PRT'), (('father-in-law', 'ADV'), ('father-in-law', 'NOUN'))],\n",
       " [(',', '.'), (('Gardner', 'ADV'), ('Gardner', 'NOUN'))],\n",
       " [('G.', 'NOUN'), (('Hubbard', 'ADV'), ('Hubbard', 'NOUN'))],\n",
       " [(',', '.'), (('wealthy', 'ADV'), ('wealthy', 'ADJ'))],\n",
       " [('and', 'CONJ'), (('well-connected', 'ADV'), ('well-connected', 'ADJ'))],\n",
       " [('obtained', 'VERB'), (('financing', 'VERB'), ('financing', 'NOUN'))],\n",
       " [('the', 'DET'), (('American', 'ADJ'), ('American', 'NOUN'))],\n",
       " [('added', 'VERB'), (('1.01', 'ADV'), ('1.01', 'NUM'))],\n",
       " [('to', 'PRT'), (('456.64', 'ADV'), ('456.64', 'NUM'))],\n",
       " [('of', 'ADP'), (('118.6', 'ADV'), ('118.6', 'NUM'))],\n",
       " [('simply', 'ADV'), (('nullified', 'ADV'), ('nullified', 'VERB'))],\n",
       " [('an', 'DET'), (('opposite', 'ADV'), ('opposite', 'ADJ'))],\n",
       " [('opposite', 'ADJ'), (('trade', 'VERB'), ('trade', 'NOUN'))],\n",
       " [('J.', 'NOUN'), (('Danzig', 'ADV'), ('Danzig', 'NOUN'))],\n",
       " [('Hearst', 'NOUN'), (('Newspapers', 'ADV'), ('Newspapers', 'NOUN'))],\n",
       " [('stood', 'VERB'), (('up', 'ADV'), ('up', 'PRT'))],\n",
       " [('and', 'CONJ'), (('that', 'DET'), ('that', 'ADP'))],\n",
       " [('putting', 'VERB'), (('more', 'ADV'), ('more', 'ADJ'))],\n",
       " [('than', 'ADP'), (('730', 'ADV'), ('730', 'NUM'))],\n",
       " [('employees', 'NOUN'), (('out', 'PRT'), ('out', 'ADP'))],\n",
       " [('nation', 'NOUN'), (('address', 'VERB'), ('address', 'NOUN'))],\n",
       " [('Salinas', 'NOUN'), (('pledged', 'ADV'), ('pledged', 'VERB'))],\n",
       " [('of', 'ADP'), (('modernization', 'ADV'), ('modernization', 'NOUN'))],\n",
       " [('*', 'X'), (('impeding', 'ADV'), ('impeding', 'VERB'))],\n",
       " [('could', 'VERB'), (('cost', 'NOUN'), ('cost', 'VERB'))],\n",
       " [('P.', 'NOUN'), (('Tassinari', 'ADV'), ('Tassinari', 'NOUN'))],\n",
       " [('$', '.'), (('70.2', 'ADV'), ('70.2', 'NUM'))],\n",
       " [('of', 'ADP'), (('seafood', 'ADV'), ('seafood', 'NOUN'))],\n",
       " [('on', 'ADP'), (('cross-border', 'ADV'), ('cross-border', 'ADJ'))],\n",
       " [('of', 'ADP'), (('emigres', 'ADV'), ('emigres', 'NOUN'))],\n",
       " [('a', 'DET'), (('willingness', 'ADV'), ('willingness', 'NOUN'))],\n",
       " [(\"n't\", 'ADV'), (('breathe', 'ADV'), ('breathe', 'VERB'))],\n",
       " [('analysts', 'NOUN'), (('warn', 'ADV'), ('warn', 'VERB'))],\n",
       " [('Hills', 'NOUN'), (('lauded', 'ADV'), ('lauded', 'VERB'))],\n",
       " [('police', 'NOUN'), (('officers', 'ADV'), ('officers', 'NOUN'))],\n",
       " [('book', 'NOUN'), (('pirates', 'ADV'), ('pirates', 'NOUN'))],\n",
       " [('.', '.'), (('Per-share', 'ADV'), ('Per-share', 'ADJ'))],\n",
       " [('Per-share', 'ADJ'), (('net', 'ADJ'), ('net', 'NOUN'))],\n",
       " [('to', 'PRT'), (('7.84', 'ADV'), ('7.84', 'NUM'))],\n",
       " [('from', 'ADP'), (('6.53', 'ADV'), ('6.53', 'NUM'))],\n",
       " [('$', '.'), (('55-a-share', 'ADV'), ('55-a-share', 'ADJ'))],\n",
       " [('*U*', 'X'), (('bid', 'VERB'), ('bid', 'NOUN'))],\n",
       " [('bid', 'NOUN'), (('that', 'ADP'), ('that', 'DET'))],\n",
       " [(',', '.'), (('steps', 'NOUN'), ('steps', 'VERB'))],\n",
       " [('who', 'PRON'), (('*T*-132', 'ADV'), ('*T*-132', 'X'))],\n",
       " [('*T*-132', 'X'), (('heads', 'NOUN'), ('heads', 'VERB'))],\n",
       " [(\"'s\", 'PRT'), (('grand', 'ADV'), ('grand', 'ADJ'))],\n",
       " [('are', 'VERB'), (('prohibited', 'ADV'), ('prohibited', 'VERB'))],\n",
       " [('of', 'ADP'), (('ethics', 'ADV'), ('ethics', 'NOUN'))],\n",
       " [('*-1', 'X'), (('disclosing', 'ADV'), ('disclosing', 'VERB'))],\n",
       " [('court', 'NOUN'), (('orders', 'NOUN'), ('orders', 'VERB'))],\n",
       " [('*-4', 'X'), (('committing', 'ADV'), ('committing', 'VERB'))],\n",
       " [('act', 'NOUN'), (('that', 'ADP'), ('that', 'DET'))],\n",
       " [('II', 'NOUN'), (('places', 'NOUN'), ('places', 'VERB'))],\n",
       " [('the', 'DET'), (('Advice', 'ADV'), ('Advice', 'NOUN'))],\n",
       " [('and', 'CONJ'), (('Consent', 'ADV'), ('Consent', 'NOUN'))],\n",
       " [(\"''\", '.'), (('appoint', 'ADV'), ('appoint', 'VERB'))],\n",
       " [(',', '.'), (('ambassadors', 'ADV'), ('ambassadors', 'NOUN'))],\n",
       " [('other', 'ADJ'), (('officers', 'ADV'), ('officers', 'NOUN'))],\n",
       " [('The', 'DET'), (('truck', 'ADV'), ('truck', 'NOUN'))],\n",
       " [('We', 'PRON'), (('flat', 'ADJ'), ('flat', 'ADV'))],\n",
       " [('ran', 'VERB'), (('out', 'PRT'), ('out', 'ADP'))],\n",
       " [('Japanese', 'ADJ'), (('contribution', 'ADV'), ('contribution', 'NOUN'))],\n",
       " [('the', 'DET'), (('gamut', 'ADV'), ('gamut', 'NOUN'))],\n",
       " [('a', 'DET'), (('blender', 'ADV'), ('blender', 'NOUN'))],\n",
       " [('to', 'PRT'), (('chairs', 'ADV'), ('chairs', 'NOUN'))],\n",
       " [('$', '.'), (('45.2', 'ADV'), ('45.2', 'NUM'))],\n",
       " [('$', '.'), (('84.9', 'ADV'), ('84.9', 'NUM'))],\n",
       " [('$', '.'), (('1.24', 'ADV'), ('1.24', 'NUM'))],\n",
       " [('year', 'NOUN'), (('earlier', 'ADV'), ('earlier', 'ADJ'))],\n",
       " [('A', 'DET'), (('player', 'ADV'), ('player', 'NOUN'))],\n",
       " [('is', 'VERB'), (('as', 'ADP'), ('as', 'ADV'))],\n",
       " [('his', 'PRON'), (('batting', 'ADV'), ('batting', 'NOUN'))],\n",
       " [('batting', 'NOUN'), (('average', 'ADJ'), ('average', 'NOUN'))],\n",
       " [('*EXP*-1', 'X'), ((\"'s\", 'PRT'), (\"'s\", 'VERB'))],\n",
       " [('in', 'ADP'), (('sight', 'ADV'), ('sight', 'NOUN'))],\n",
       " [('many', 'ADJ'), (('*T*-178', 'ADV'), ('*T*-178', 'X'))],\n",
       " [('its', 'PRON'), (('offer', 'VERB'), ('offer', 'NOUN'))],\n",
       " [('*-2', 'X'), (('agreeing', 'ADV'), ('agreeing', 'VERB'))],\n",
       " [('produce', 'VERB'), (('consistent', 'ADV'), ('consistent', 'ADJ'))],\n",
       " [('has', 'VERB'), (('wedded', 'ADV'), ('wedded', 'VERB'))],\n",
       " [('Both', 'DET'), (('Deryck', 'ADV'), ('Deryck', 'NOUN'))],\n",
       " [('who', 'PRON'), (('*T*-256', 'ADV'), ('*T*-256', 'X'))],\n",
       " [('*T*-256', 'X'), (('heads', 'NOUN'), ('heads', 'VERB'))],\n",
       " [('S.', 'NOUN'), (('Wadsworth', 'ADV'), ('Wadsworth', 'NOUN'))],\n",
       " [('who', 'PRON'), (('*T*-257', 'ADV'), ('*T*-257', 'X'))],\n",
       " [('*T*-257', 'X'), (('heads', 'NOUN'), ('heads', 'VERB'))],\n",
       " [('Stanley', 'NOUN'), (('there', 'DET'), ('there', 'ADV'))],\n",
       " [(',', '.'), (('ascribe', 'ADV'), ('ascribe', 'VERB'))],\n",
       " [('to', 'PRT'), (('offer', 'NOUN'), ('offer', 'VERB'))],\n",
       " [(',', '.'), (('futures-related', 'ADV'), ('futures-related', 'ADJ'))],\n",
       " [('made', 'VERB'), (('up', 'ADV'), ('up', 'PRT'))],\n",
       " [('and', 'CONJ'), (('that', 'DET'), ('that', 'ADP'))],\n",
       " [('that', 'ADP'), (('only', 'ADJ'), ('only', 'ADV'))],\n",
       " [('the', 'DET'), (('homeless', 'ADJ'), ('homeless', 'NOUN'))],\n",
       " [('homeless', 'NOUN'), (('exhibits', 'ADV'), ('exhibits', 'VERB'))],\n",
       " [('*', 'X'), (('Hold', 'ADV'), ('Hold', 'VERB'))],\n",
       " [('the', 'DET'), (('Putty', 'ADV'), ('Putty', 'NOUN'))],\n",
       " [('of', 'ADP'), (('about', 'ADP'), ('about', 'ADV'))],\n",
       " [('have', 'VERB'), (('crossed', 'ADV'), ('crossed', 'VERB'))],\n",
       " [('*-1', 'X'), (('gauging', 'ADV'), ('gauging', 'VERB'))],\n",
       " [(',', '.'), (('down', 'ADV'), ('down', 'ADP'))],\n",
       " [('from', 'ADP'), (('176.1', 'ADV'), ('176.1', 'NUM'))],\n",
       " [('*', 'X'), (('Arbitraging', 'ADV'), ('Arbitraging', 'VERB'))],\n",
       " [('ads', 'NOUN'), (('that', 'ADP'), ('that', 'DET'))],\n",
       " [('David', 'NOUN'), (('Runkel', 'ADV'), ('Runkel', 'NOUN'))],\n",
       " [('completed', 'VERB'), (('*-137', 'ADV'), ('*-137', 'X'))],\n",
       " [('worked', 'VERB'), (('up', 'ADV'), ('up', 'PRT'))],\n",
       " [('a', 'DET'), (('sweat', 'ADV'), ('sweat', 'NOUN'))],\n",
       " [('often', 'ADV'), (('skip', 'ADV'), ('skip', 'VERB'))],\n",
       " [('skip', 'VERB'), (('off', 'ADP'), ('off', 'PRT'))],\n",
       " [('local', 'ADJ'), (('pub', 'ADV'), ('pub', 'NOUN'))],\n",
       " [('others', 'NOUN'), (('below', 'ADP'), ('below', 'ADV'))],\n",
       " [('*U*', 'X'), (('gain', 'VERB'), ('gain', 'NOUN'))],\n",
       " [('influence', 'NOUN'), (('peddling', 'ADV'), ('peddling', 'NOUN'))],\n",
       " [('``', '.'), (('respectable', 'ADV'), ('respectable', 'ADJ'))],\n",
       " [('Reagan', 'NOUN'), (('confidant', 'ADV'), ('confidant', 'NOUN'))],\n",
       " [('confidant', 'NOUN'), (('Lyn', 'ADV'), ('Lyn', 'NOUN'))],\n",
       " [('Lyn', 'NOUN'), (('Nofzinger', 'ADV'), ('Nofzinger', 'NOUN'))],\n",
       " [('an', 'DET'), (('individual', 'ADJ'), ('individual', 'NOUN'))],\n",
       " [(\"'s\", 'PRT'), (('gut-wrenching', 'ADV'), ('gut-wrenching', 'ADJ'))],\n",
       " [('gut-wrenching', 'ADJ'), (('190-point', 'ADV'), ('190-point', 'ADJ'))],\n",
       " [('190-point', 'ADJ'), (('drop', 'VERB'), ('drop', 'NOUN'))],\n",
       " [(\"'s\", 'PRT'), (('1,400', 'ADV'), ('1,400', 'NUM'))],\n",
       " [('and', 'CONJ'), (('letter-writing', 'ADV'), ('letter-writing', 'ADJ'))],\n",
       " [('*', 'X'), (('quashing', 'ADV'), ('quashing', 'VERB'))],\n",
       " [('.', '.'), (('Could', 'ADV'), ('Could', 'VERB'))],\n",
       " [('evil', 'ADJ'), (('deeds', 'ADV'), ('deeds', 'NOUN'))],\n",
       " [('of', 'ADP'), (('program-trading', 'ADJ'), ('program-trading', 'NOUN'))],\n",
       " [('program-trading', 'NOUN'), (('goblins', 'ADV'), ('goblins', 'NOUN'))],\n",
       " [('to', 'PRT'), (('counteract', 'ADV'), ('counteract', 'VERB'))],\n",
       " [('a', 'DET'), (('double-A', 'ADV'), ('double-A', 'ADJ'))],\n",
       " [('double-A', 'ADJ'), (('rating', 'VERB'), ('rating', 'NOUN'))],\n",
       " [('its', 'PRON'), (('participation', 'ADV'), ('participation', 'NOUN'))],\n",
       " [('the', 'DET'), (('Fulbright', 'ADV'), ('Fulbright', 'NOUN'))],\n",
       " [('U.S.', 'NOUN'),\n",
       "  (('government-funded', 'ADV'), ('government-funded', 'ADJ'))],\n",
       " [('The', 'DET'), (('following', 'NOUN'), ('following', 'VERB'))],\n",
       " [(\"'s\", 'PRT'), (('offerings', 'ADV'), ('offerings', 'NOUN'))],\n",
       " [('and', 'CONJ'), (('pricings', 'ADV'), ('pricings', 'NOUN'))],\n",
       " [('and', 'CONJ'), (('non-U.S.', 'ADV'), ('non-U.S.', 'NOUN'))],\n",
       " [('and', 'CONJ'), (('syndicate', 'ADV'), ('syndicate', 'NOUN'))],\n",
       " [('of', 'ADP'), (('flashy', 'ADV'), ('flashy', 'ADJ'))]]"
      ]
     },
     "execution_count": 26,
     "metadata": {},
     "output_type": "execute_result"
    }
   ],
   "source": [
    "# Get the words in the test set which are incorrectly classified\n",
    "incorrect_tagged_cases = [[test_run_base[i-1],j] for i, j in enumerate(zip(tagged_seq, test_run_base)) if j[0]!=j[1]]\n",
    "incorrect_tagged_cases"
   ]
  },
  {
   "cell_type": "markdown",
   "metadata": {},
   "source": [
    "Most of the words which are not present in training set are simply assigned the first pos tag in the training pos tagset.\n",
    "\n",
    "Let us do the analysis on the test file provided in assignment. We have already read it before."
   ]
  },
  {
   "cell_type": "code",
   "execution_count": 27,
   "metadata": {},
   "outputs": [
    {
     "name": "stderr",
     "output_type": "stream",
     "text": [
      "[nltk_data] Downloading package punkt to /Users/chintu/nltk_data...\n",
      "[nltk_data]   Package punkt is already up-to-date!\n"
     ]
    },
    {
     "data": {
      "text/plain": [
       "True"
      ]
     },
     "execution_count": 27,
     "metadata": {},
     "output_type": "execute_result"
    }
   ],
   "source": [
    "# downloading punkt otherwise it will throw error\n",
    "nltk.download('punkt')"
   ]
  },
  {
   "cell_type": "code",
   "execution_count": 28,
   "metadata": {},
   "outputs": [
    {
     "data": {
      "text/plain": [
       "[('Android', 'ADV'),\n",
       " ('is', 'VERB'),\n",
       " ('a', 'DET'),\n",
       " ('mobile', 'ADJ'),\n",
       " ('operating', 'NOUN'),\n",
       " ('system', 'NOUN'),\n",
       " ('developed', 'VERB'),\n",
       " ('by', 'ADP'),\n",
       " ('Google', 'ADV'),\n",
       " ('.', '.'),\n",
       " ('Android', 'ADV'),\n",
       " ('has', 'VERB'),\n",
       " ('been', 'VERB'),\n",
       " ('the', 'DET'),\n",
       " ('best-selling', 'ADJ'),\n",
       " ('OS', 'ADV'),\n",
       " ('worldwide', 'ADV'),\n",
       " ('on', 'ADP'),\n",
       " ('smartphones', 'ADV'),\n",
       " ('since', 'ADP'),\n",
       " ('2011', 'ADV'),\n",
       " ('and', 'CONJ'),\n",
       " ('on', 'ADP'),\n",
       " ('tablets', 'NOUN'),\n",
       " ('since', 'ADP'),\n",
       " ('2013', 'ADV'),\n",
       " ('.', '.'),\n",
       " ('Google', 'ADV'),\n",
       " ('and', 'CONJ'),\n",
       " ('Twitter', 'ADV'),\n",
       " ('made', 'VERB'),\n",
       " ('a', 'DET'),\n",
       " ('deal', 'NOUN'),\n",
       " ('in', 'ADP'),\n",
       " ('2015', 'ADV'),\n",
       " ('that', 'ADP'),\n",
       " ('gave', 'VERB'),\n",
       " ('Google', 'ADV'),\n",
       " ('access', 'NOUN'),\n",
       " ('to', 'PRT'),\n",
       " ('Twitter', 'ADV'),\n",
       " (\"'s\", 'PRT'),\n",
       " ('firehose', 'ADV'),\n",
       " ('.', '.'),\n",
       " ('Twitter', 'ADV'),\n",
       " ('is', 'VERB'),\n",
       " ('an', 'DET'),\n",
       " ('online', 'ADV'),\n",
       " ('news', 'NOUN'),\n",
       " ('and', 'CONJ'),\n",
       " ('social', 'ADJ'),\n",
       " ('networking', 'NOUN'),\n",
       " ('service', 'NOUN'),\n",
       " ('on', 'ADP'),\n",
       " ('which', 'DET'),\n",
       " ('users', 'NOUN'),\n",
       " ('post', 'NOUN'),\n",
       " ('and', 'CONJ'),\n",
       " ('interact', 'ADV'),\n",
       " ('with', 'ADP'),\n",
       " ('messages', 'ADV'),\n",
       " ('known', 'VERB'),\n",
       " ('as', 'ADP'),\n",
       " ('tweets', 'ADV'),\n",
       " ('.', '.'),\n",
       " ('Before', 'ADP'),\n",
       " ('entering', 'VERB'),\n",
       " ('politics', 'NOUN'),\n",
       " (',', '.'),\n",
       " ('Donald', 'NOUN'),\n",
       " ('Trump', 'NOUN'),\n",
       " ('was', 'VERB'),\n",
       " ('a', 'DET'),\n",
       " ('domineering', 'ADV'),\n",
       " ('businessman', 'NOUN'),\n",
       " ('and', 'CONJ'),\n",
       " ('a', 'DET'),\n",
       " ('television', 'NOUN'),\n",
       " ('personality', 'ADV'),\n",
       " ('.', '.'),\n",
       " ('The', 'DET'),\n",
       " ('2018', 'ADV'),\n",
       " ('FIFA', 'ADV'),\n",
       " ('World', 'NOUN'),\n",
       " ('Cup', 'ADV'),\n",
       " ('is', 'VERB'),\n",
       " ('the', 'DET'),\n",
       " ('21st', 'ADV'),\n",
       " ('FIFA', 'ADV'),\n",
       " ('World', 'NOUN'),\n",
       " ('Cup', 'ADV'),\n",
       " (',', '.'),\n",
       " ('an', 'DET'),\n",
       " ('international', 'ADJ'),\n",
       " ('football', 'NOUN'),\n",
       " ('tournament', 'ADV'),\n",
       " ('contested', 'ADV'),\n",
       " ('once', 'ADV'),\n",
       " ('every', 'DET'),\n",
       " ('four', 'NUM'),\n",
       " ('years', 'NOUN'),\n",
       " ('.', '.'),\n",
       " ('This', 'DET'),\n",
       " ('is', 'VERB'),\n",
       " ('the', 'DET'),\n",
       " ('first', 'ADJ'),\n",
       " ('World', 'NOUN'),\n",
       " ('Cup', 'ADV'),\n",
       " ('to', 'PRT'),\n",
       " ('be', 'VERB'),\n",
       " ('held', 'VERB'),\n",
       " ('in', 'ADP'),\n",
       " ('Eastern', 'NOUN'),\n",
       " ('Europe', 'NOUN'),\n",
       " ('and', 'CONJ'),\n",
       " ('the', 'DET'),\n",
       " ('11th', 'ADJ'),\n",
       " ('time', 'NOUN'),\n",
       " ('that', 'ADP'),\n",
       " ('it', 'PRON'),\n",
       " ('has', 'VERB'),\n",
       " ('been', 'VERB'),\n",
       " ('held', 'VERB'),\n",
       " ('in', 'ADP'),\n",
       " ('Europe', 'NOUN'),\n",
       " ('.', '.'),\n",
       " ('Show', 'NOUN'),\n",
       " ('me', 'PRON'),\n",
       " ('the', 'DET'),\n",
       " ('cheapest', 'ADJ'),\n",
       " ('round', 'NOUN'),\n",
       " ('trips', 'ADV'),\n",
       " ('from', 'ADP'),\n",
       " ('Dallas', 'NOUN'),\n",
       " ('to', 'PRT'),\n",
       " ('Atlanta', 'NOUN'),\n",
       " ('I', 'PRON'),\n",
       " ('would', 'VERB'),\n",
       " ('like', 'ADP'),\n",
       " ('to', 'PRT'),\n",
       " ('see', 'VERB'),\n",
       " ('flights', 'NOUN'),\n",
       " ('from', 'ADP'),\n",
       " ('Denver', 'NOUN'),\n",
       " ('to', 'PRT'),\n",
       " ('Philadelphia', 'NOUN'),\n",
       " ('.', '.'),\n",
       " ('Show', 'NOUN'),\n",
       " ('me', 'PRON'),\n",
       " ('the', 'DET'),\n",
       " ('price', 'NOUN'),\n",
       " ('of', 'ADP'),\n",
       " ('the', 'DET'),\n",
       " ('flights', 'NOUN'),\n",
       " ('leaving', 'VERB'),\n",
       " ('Atlanta', 'NOUN'),\n",
       " ('at', 'ADP'),\n",
       " ('about', 'ADP'),\n",
       " ('3', 'NUM'),\n",
       " ('in', 'ADP'),\n",
       " ('the', 'DET'),\n",
       " ('afternoon', 'NOUN'),\n",
       " ('and', 'CONJ'),\n",
       " ('arriving', 'ADV'),\n",
       " ('in', 'ADP'),\n",
       " ('San', 'NOUN'),\n",
       " ('Francisco', 'NOUN'),\n",
       " ('.', '.'),\n",
       " ('NASA', 'ADV'),\n",
       " ('invited', 'ADV'),\n",
       " ('social', 'ADJ'),\n",
       " ('media', 'NOUN'),\n",
       " ('users', 'NOUN'),\n",
       " ('to', 'PRT'),\n",
       " ('experience', 'NOUN'),\n",
       " ('the', 'DET'),\n",
       " ('launch', 'NOUN'),\n",
       " ('of', 'ADP'),\n",
       " ('ICESAT-2', 'ADV'),\n",
       " ('Satellite', 'ADV'),\n",
       " ('.', '.')]"
      ]
     },
     "execution_count": 28,
     "metadata": {},
     "output_type": "execute_result"
    }
   ],
   "source": [
    "#Get the predictions on the test sentences\n",
    "sample_pred_list =[]\n",
    "for line in test_lines:\n",
    "    sample_pred_list=sample_pred_list+list(Viterbi(word_tokenize(line)))\n",
    "sample_pred_list"
   ]
  },
  {
   "cell_type": "markdown",
   "metadata": {},
   "source": [
    "For words like 'Android','Google' the first tag in the training pos tagset is given. Let us see if these words exist in the training corpus or not."
   ]
  },
  {
   "cell_type": "code",
   "execution_count": 29,
   "metadata": {},
   "outputs": [],
   "source": [
    "#Get the tokens in the test file\n",
    "sample_words=[tokens for line in test_lines for tokens in word_tokenize(line)]"
   ]
  },
  {
   "cell_type": "code",
   "execution_count": 30,
   "metadata": {
    "scrolled": true
   },
   "outputs": [
    {
     "data": {
      "text/plain": [
       "['personality',\n",
       " 'OS',\n",
       " 'messages',\n",
       " 'tournament',\n",
       " 'NASA',\n",
       " 'domineering',\n",
       " '2015',\n",
       " '21st',\n",
       " '2013',\n",
       " 'worldwide',\n",
       " 'Google',\n",
       " 'online',\n",
       " 'invited',\n",
       " 'Cup',\n",
       " 'Android',\n",
       " 'FIFA',\n",
       " '2018',\n",
       " '2011',\n",
       " 'trips',\n",
       " 'firehose',\n",
       " 'Twitter',\n",
       " 'arriving',\n",
       " 'tweets',\n",
       " 'contested',\n",
       " 'smartphones',\n",
       " 'ICESAT-2',\n",
       " 'Satellite',\n",
       " 'interact']"
      ]
     },
     "execution_count": 30,
     "metadata": {},
     "output_type": "execute_result"
    }
   ],
   "source": [
    "#Get the list of words which are present in test lines but not in the training corpus\n",
    "words_not_in_corpus = list(set(sample_words) - set(tokens))\n",
    "words_not_in_corpus"
   ]
  },
  {
   "cell_type": "markdown",
   "metadata": {},
   "source": [
    "As all these above words are not present in the training set, they are tagged as default tags."
   ]
  },
  {
   "cell_type": "code",
   "execution_count": 31,
   "metadata": {},
   "outputs": [
    {
     "data": {
      "text/plain": [
       "[('Android', 'ADV'),\n",
       " ('Google', 'ADV'),\n",
       " ('Android', 'ADV'),\n",
       " ('OS', 'ADV'),\n",
       " ('worldwide', 'ADV'),\n",
       " ('smartphones', 'ADV'),\n",
       " ('2011', 'ADV'),\n",
       " ('2013', 'ADV'),\n",
       " ('Google', 'ADV'),\n",
       " ('Twitter', 'ADV'),\n",
       " ('2015', 'ADV'),\n",
       " ('Google', 'ADV'),\n",
       " ('Twitter', 'ADV'),\n",
       " ('firehose', 'ADV'),\n",
       " ('Twitter', 'ADV'),\n",
       " ('online', 'ADV'),\n",
       " ('interact', 'ADV'),\n",
       " ('messages', 'ADV'),\n",
       " ('tweets', 'ADV'),\n",
       " ('domineering', 'ADV'),\n",
       " ('personality', 'ADV'),\n",
       " ('2018', 'ADV'),\n",
       " ('FIFA', 'ADV'),\n",
       " ('Cup', 'ADV'),\n",
       " ('21st', 'ADV'),\n",
       " ('FIFA', 'ADV'),\n",
       " ('Cup', 'ADV'),\n",
       " ('tournament', 'ADV'),\n",
       " ('contested', 'ADV'),\n",
       " ('Cup', 'ADV'),\n",
       " ('trips', 'ADV'),\n",
       " ('arriving', 'ADV'),\n",
       " ('NASA', 'ADV'),\n",
       " ('invited', 'ADV'),\n",
       " ('ICESAT-2', 'ADV'),\n",
       " ('Satellite', 'ADV')]"
      ]
     },
     "execution_count": 31,
     "metadata": {},
     "output_type": "execute_result"
    }
   ],
   "source": [
    "# To verify what tags are assigned for unknown words not present in training dataset\n",
    "[tup for tup in sample_pred_list for word in words_not_in_corpus if tup[0]==word ]"
   ]
  },
  {
   "cell_type": "markdown",
   "metadata": {},
   "source": [
    "So it clearly assigns the first default tag"
   ]
  },
  {
   "cell_type": "code",
   "execution_count": 32,
   "metadata": {},
   "outputs": [
    {
     "data": {
      "text/plain": [
       "Counter({'DET': 8278,\n",
       "         'NOUN': 27382,\n",
       "         'ADP': 9349,\n",
       "         'CONJ': 2135,\n",
       "         'VERB': 12842,\n",
       "         'X': 6237,\n",
       "         'PRT': 3041,\n",
       "         '.': 11145,\n",
       "         'ADJ': 6089,\n",
       "         'PRON': 2574,\n",
       "         'ADV': 3005,\n",
       "         'NUM': 3417})"
      ]
     },
     "execution_count": 32,
     "metadata": {},
     "output_type": "execute_result"
    }
   ],
   "source": [
    "# Now we will import Counter to see the number of tags assigned in each category(total 12 category we have)\n",
    "from collections import Counter\n",
    "tag_counts = Counter(pair[1] for pair in train_tagged_words)\n",
    "tag_counts"
   ]
  },
  {
   "cell_type": "code",
   "execution_count": 33,
   "metadata": {},
   "outputs": [
    {
     "data": {
      "text/plain": [
       "Counter({'ADV': 337,\n",
       "         'ADP': 26,\n",
       "         'VERB': 32,\n",
       "         'PRT': 7,\n",
       "         'ADJ': 20,\n",
       "         'NOUN': 31,\n",
       "         'DET': 8,\n",
       "         'NUM': 1})"
      ]
     },
     "execution_count": 33,
     "metadata": {},
     "output_type": "execute_result"
    }
   ],
   "source": [
    "# Count of incorrectly classified words\n",
    "wrong_tag_counts = Counter(pair[1][0][1] for pair in incorrect_tagged_cases)\n",
    "wrong_tag_counts"
   ]
  },
  {
   "cell_type": "code",
   "execution_count": 34,
   "metadata": {},
   "outputs": [
    {
     "name": "stdout",
     "output_type": "stream",
     "text": [
      "0.20767793178632613\n"
     ]
    },
    {
     "data": {
      "text/plain": [
       "[('summoned', 'VERB'),\n",
       " ('expressed', 'VERB'),\n",
       " ('frightened', 'VERB'),\n",
       " ('spotted', 'VERB'),\n",
       " ('lacked', 'VERB'),\n",
       " ('preferred', 'VERB'),\n",
       " ('hired', 'VERB'),\n",
       " ('ordered', 'VERB'),\n",
       " ('received', 'VERB'),\n",
       " ('moved', 'VERB'),\n",
       " ('carried', 'VERB'),\n",
       " ('allowed', 'VERB'),\n",
       " ('used', 'VERB'),\n",
       " ('entrenched', 'VERB'),\n",
       " ('trimmed', 'VERB'),\n",
       " ('totaled', 'VERB'),\n",
       " ('opened', 'VERB'),\n",
       " ('ended', 'VERB'),\n",
       " ('disappointed', 'VERB'),\n",
       " ('showed', 'VERB')]"
      ]
     },
     "execution_count": 34,
     "metadata": {},
     "output_type": "execute_result"
    }
   ],
   "source": [
    "# Let us see the percentage of verbs which are classifed as 'verb which end with 'ed'\n",
    "verbs = [pair for pair in train_tagged_words if pair[1]=='VERB']\n",
    "ed_verbs = [pair for pair in verbs if pair[0].endswith('ed')]\n",
    "print(len(ed_verbs) / len(verbs))\n",
    "ed_verbs[:20]"
   ]
  },
  {
   "cell_type": "markdown",
   "metadata": {},
   "source": [
    "Around 20% of words which end with 'ed' are verbs. Though it is 20% it is high because this is universal tagset and Verbs contain all the forms of verbs"
   ]
  },
  {
   "cell_type": "code",
   "execution_count": 35,
   "metadata": {},
   "outputs": [
    {
     "name": "stdout",
     "output_type": "stream",
     "text": [
      "0.10855007008254167\n"
     ]
    },
    {
     "data": {
      "text/plain": [
       "[('according', 'VERB'),\n",
       " ('managing', 'VERB'),\n",
       " ('giving', 'VERB'),\n",
       " ('looking', 'VERB'),\n",
       " ('including', 'VERB'),\n",
       " ('According', 'VERB'),\n",
       " ('holding', 'VERB'),\n",
       " ('fighting', 'VERB'),\n",
       " ('following', 'VERB'),\n",
       " ('pumping', 'VERB'),\n",
       " ('trading', 'VERB'),\n",
       " ('reciting', 'VERB'),\n",
       " ('offering', 'VERB'),\n",
       " ('contesting', 'VERB'),\n",
       " ('leaving', 'VERB'),\n",
       " ('Adopting', 'VERB'),\n",
       " ('getting', 'VERB'),\n",
       " ('complaining', 'VERB'),\n",
       " ('affecting', 'VERB'),\n",
       " ('helping', 'VERB')]"
      ]
     },
     "execution_count": 35,
     "metadata": {},
     "output_type": "execute_result"
    }
   ],
   "source": [
    "# Let us see the percentage of verbs which are classifed as 'verb which end with 'ing'\n",
    "verbs = [pair for pair in train_tagged_words if pair[1]=='VERB']\n",
    "ing_verbs = [pair for pair in verbs if pair[0].endswith('ing')]\n",
    "print(len(ing_verbs) / len(verbs))\n",
    "ing_verbs[:20]"
   ]
  },
  {
   "cell_type": "code",
   "execution_count": 36,
   "metadata": {},
   "outputs": [
    {
     "name": "stdout",
     "output_type": "stream",
     "text": [
      "6089\n",
      "4251\n",
      "0.6981441944490064\n"
     ]
    }
   ],
   "source": [
    "# Lets see percentage of Adjective tags followed by nouns\n",
    "# create a list of all tags (without the words)\n",
    "tags = [pair[1] for pair in train_tagged_words]\n",
    "\n",
    "# create a list of Adj tags\n",
    "adj_tags = [t for t in tags if t == 'ADJ']\n",
    "\n",
    "# create a list of (ADJ, Noun) tags\n",
    "adj_noun_tags = [(t, tags[index+1]) for index, t in enumerate(tags) \n",
    "              if t=='ADJ' and tags[index+1]=='NOUN']\n",
    "\n",
    "print(len(adj_tags))\n",
    "print(len(adj_noun_tags))\n",
    "print(len(adj_noun_tags) / len(adj_tags))"
   ]
  },
  {
   "cell_type": "markdown",
   "metadata": {},
   "source": [
    "Total of around 70 percent adjectives are followed by nouns"
   ]
  },
  {
   "cell_type": "code",
   "execution_count": 37,
   "metadata": {},
   "outputs": [
    {
     "name": "stdout",
     "output_type": "stream",
     "text": [
      "8278\n",
      "5276\n",
      "0.6373520173955062\n"
     ]
    }
   ],
   "source": [
    "# Lets see percentage of Determinent tags followed by nouns\n",
    "dt_tags = [t for t in tags if t == 'DET']\n",
    "dt_noun_tags = [(t, tags[index+1]) for index, t in enumerate(tags) \n",
    "              if t=='DET' and tags[index+1]=='NOUN']\n",
    "\n",
    "print(len(dt_tags))\n",
    "print(len(dt_noun_tags))\n",
    "print(len(dt_noun_tags) / len(dt_tags))"
   ]
  },
  {
   "cell_type": "markdown",
   "metadata": {},
   "source": [
    "Around 63 percent determinants are followed by nouns."
   ]
  },
  {
   "cell_type": "code",
   "execution_count": 38,
   "metadata": {},
   "outputs": [
    {
     "name": "stdout",
     "output_type": "stream",
     "text": [
      "3005\n",
      "1026\n",
      "0.34143094841930116\n"
     ]
    }
   ],
   "source": [
    "# Lets see percentage of Adverbs tags followed by Verbs\n",
    "adv_tags = [t for t in tags if t == 'ADV']\n",
    "adv_vb_tags = [(t, tags[index+1]) for index, t in enumerate(tags) \n",
    "              if t=='ADV' and tags[index+1]=='VERB']\n",
    "\n",
    "print(len(adv_tags))\n",
    "print(len(adv_vb_tags))\n",
    "print(len(adv_vb_tags) / len(adv_tags))"
   ]
  },
  {
   "cell_type": "markdown",
   "metadata": {},
   "source": [
    "Around 34 percent adverbs are followed by verbs. So let's create a pattern and modify viterbi algorithm."
   ]
  },
  {
   "cell_type": "code",
   "execution_count": 39,
   "metadata": {},
   "outputs": [],
   "source": [
    "# specify patterns for tagging\n",
    "pattern = [\n",
    "    (r'.*ing$', 'VERB'),                # ending with ing\n",
    "    (r'.*ed$', 'VERB'),                 # past tense verbs\n",
    "    (r'.*es$', 'VERB'),                 # singular present verbs\n",
    "    (r'.*ould$', 'VERB'),               # modal verbs\n",
    "    (r'.*\\'s$', 'NOUN'),                # possessive nouns\n",
    "    (r'.*s$', 'NOUN'),                  # plural nouns\n",
    "    (r'[-+]?\\d*\\.\\d+|\\d+', 'NUM'),      # Number with floating values\n",
    "    (r'(The|the|A|a|An|an)$', 'DET'),   # articles or determinants\n",
    "    (r'.*able$', 'ADJ'),                # adjectives\n",
    "    (r'.*ness$', 'NOUN'),               # nouns formed from adjectives\n",
    "    (r'.*ly$', 'ADV'),                  # adverbs\n",
    "    (r'[A-Z ]+', 'NOUN'),               # all caps eg. FIFA, NASA, etc\n",
    "    (r'.*Twitter$', 'NOUN'),            # keywords like Twitter, Android, Google as noun\n",
    "    (r'.*Android$', 'NOUN'),\n",
    "    (r'.*Google$', 'NOUN'),\n",
    "    (r'.*', 'NOUN')                     # default value as noun\n",
    "]"
   ]
  },
  {
   "cell_type": "code",
   "execution_count": 40,
   "metadata": {},
   "outputs": [],
   "source": [
    "# Rule based tagging\n",
    "def rule_based_tagging(word, pattern):\n",
    "    regexp_tagger = nltk.RegexpTagger(pattern)\n",
    "    kv = regexp_tagger.tag(nltk.word_tokenize(word))\n",
    "    for v in kv:\n",
    "        print(word)\n",
    "        print(v[1])\n",
    "        return v[1]"
   ]
  },
  {
   "cell_type": "code",
   "execution_count": 41,
   "metadata": {},
   "outputs": [
    {
     "name": "stdout",
     "output_type": "stream",
     "text": [
      "nullified\n",
      "VERB\n",
      "opposite\n",
      "NOUN\n",
      "[('``', '.'), ('Profit', 'NOUN'), ('may', 'VERB'), ('be', 'VERB'), ('low', 'ADJ'), (',', '.'), ('but', 'CONJ'), ('at', 'ADP'), ('least', 'ADJ'), ('costs', 'NOUN'), ('should', 'VERB'), ('be', 'VERB'), ('covered', 'VERB'), ('*-1', 'X'), ('.', '.'), ('This', 'DET'), ('is', 'VERB'), ('the', 'DET'), ('real', 'ADJ'), ('issue', 'NOUN'), ('raised', 'VERB'), ('*', 'X'), ('by', 'ADP'), ('the', 'DET'), ('Wedtech', 'NOUN'), ('scandal', 'NOUN'), ('.', '.'), ('As', 'ADP'), ('individual', 'ADJ'), ('investors', 'NOUN'), ('have', 'VERB'), ('turned', 'VERB'), ('away', 'ADV'), ('from', 'ADP'), ('the', 'DET'), ('stock', 'NOUN'), ('market', 'NOUN'), ('over', 'ADP'), ('the', 'DET'), ('years', 'NOUN'), (',', '.'), ('securities', 'NOUN'), ('firms', 'NOUN'), ('have', 'VERB'), ('scrambled', 'VERB'), ('*-1', 'X'), ('to', 'PRT'), ('find', 'VERB'), ('new', 'ADJ'), ('products', 'NOUN'), ('that', 'ADP'), ('brokers', 'NOUN'), ('find', 'VERB'), ('*T*-40', 'X'), ('easy', 'ADJ'), ('0', 'X'), ('*', 'X'), ('to', 'PRT'), ('sell', 'VERB'), ('*T*-2', 'X'), ('.', '.'), ('Georgia', 'NOUN'), ('Gulf', 'NOUN'), ('received', 'VERB'), ('a', 'DET'), ('new', 'ADJ'), ('takeover', 'NOUN'), ('bid', 'NOUN'), ('*ICH*-1', 'X'), ('from', 'ADP'), ('investor', 'NOUN'), ('Harold', 'NOUN'), ('Simmons', 'NOUN'), ('and', 'CONJ'), ('NL', 'NOUN'), ('Industries', 'NOUN'), ('of', 'ADP'), ('$', '.'), ('50', 'NUM'), ('*U*', 'X'), ('a', 'DET'), ('share', 'NOUN'), (',', '.'), ('or', 'CONJ'), ('about', 'ADP'), ('$', '.'), ('1.1', 'NUM'), ('billion', 'NUM'), ('*U*', 'X'), ('.', '.'), ('Most', 'ADJ'), ('contracts', 'NOUN'), ('are', 'VERB'), ('simply', 'ADV'), ('nullified', 'VERB'), ('*-1', 'X'), ('by', 'ADP'), ('an', 'DET'), ('opposite', 'NOUN'), ('trade', 'NOUN'), ('before', 'ADP'), ('they', 'PRON'), ('come', 'VERB'), ('due', 'ADJ'), ('.', '.')]\n"
     ]
    }
   ],
   "source": [
    "def modified_Viterbi_rule_based(words, train_bag = train_tagged_words):\n",
    "    state = []\n",
    "    T = list(set([pair[1] for pair in train_bag]))\n",
    "    \n",
    "    for key, word in enumerate(words):\n",
    "        #initialise list of probability column for a given observation\n",
    "        p = [] \n",
    "        for tag in T:\n",
    "            if key == 0:\n",
    "                transition_p = tags_df.loc['.', tag]\n",
    "            else:\n",
    "                transition_p = tags_df.loc[state[-1], tag]\n",
    "                \n",
    "            # compute emission and state probabilities\n",
    "            emission_p = word_given_tag(words[key], tag)[0]/word_given_tag(words[key], tag)[1]                \n",
    "            state_probability = emission_p * transition_p    \n",
    "            p.append(state_probability)\n",
    "        pmax = max(p)\n",
    "        if pmax == 0.0:       \n",
    "            state_max = rule_based_tagging(word, pattern)\n",
    "            if state_max is None :\n",
    "                state_max = \".\"\n",
    "        else :\n",
    "            state_max = T[p.index(pmax)] \n",
    "        state.append(state_max)\n",
    "    return list(zip(words, state))\n",
    "\n",
    "random.seed(1234)\n",
    "\n",
    "# choose random 5 sents\n",
    "rndom = [random.randint(1,len(test_data_set)) for x in range(5)]\n",
    "\n",
    "# list of sents\n",
    "test_run = [test_data_set[i] for i in rndom]\n",
    "\n",
    "# list of tagged words\n",
    "test_run_base = [tup for sent in test_run for tup in sent]\n",
    "\n",
    "# list of untagged words\n",
    "test_tagged_words = [tup[0] for sent in test_run for tup in sent]\n",
    "#test_run\n",
    "\n",
    "# tagging the test sentences\n",
    "tagged_seq = modified_Viterbi_rule_based(test_tagged_words)\n",
    "\n",
    "print(tagged_seq)"
   ]
  },
  {
   "cell_type": "code",
   "execution_count": 42,
   "metadata": {},
   "outputs": [
    {
     "name": "stdout",
     "output_type": "stream",
     "text": [
      "0.9809523809523809\n"
     ]
    }
   ],
   "source": [
    "check = [i for i, j in zip(tagged_seq, test_run_base) if i == j] \n",
    "rulebased_modified_viterbi_accuracy = len(check)/len(tagged_seq)\n",
    "print(rulebased_modified_viterbi_accuracy)"
   ]
  },
  {
   "cell_type": "code",
   "execution_count": 43,
   "metadata": {},
   "outputs": [
    {
     "data": {
      "text/plain": [
       "[[('products', 'NOUN'), (('that', 'ADP'), ('that', 'DET'))],\n",
       " [('an', 'DET'), (('opposite', 'NOUN'), ('opposite', 'ADJ'))]]"
      ]
     },
     "execution_count": 43,
     "metadata": {},
     "output_type": "execute_result"
    }
   ],
   "source": [
    "incorrect_tagged_cases = [[test_run_base[i-1],j] for i, j in enumerate(zip(tagged_seq, test_run_base)) if j[0]!=j[1]]\n",
    "incorrect_tagged_cases"
   ]
  },
  {
   "cell_type": "code",
   "execution_count": 44,
   "metadata": {},
   "outputs": [
    {
     "name": "stdout",
     "output_type": "stream",
     "text": [
      "Android\n",
      "NOUN\n",
      "Google\n",
      "NOUN\n",
      "Android\n",
      "NOUN\n",
      "OS\n",
      "NOUN\n",
      "worldwide\n",
      "NOUN\n",
      "smartphones\n",
      "VERB\n",
      "2011\n",
      "NUM\n",
      "2013\n",
      "NUM\n",
      "Google\n",
      "NOUN\n",
      "Twitter\n",
      "NOUN\n",
      "2015\n",
      "NUM\n",
      "Google\n",
      "NOUN\n",
      "Twitter\n",
      "NOUN\n",
      "firehose\n",
      "NOUN\n",
      "Twitter\n",
      "NOUN\n",
      "online\n",
      "NOUN\n",
      "interact\n",
      "NOUN\n",
      "messages\n",
      "VERB\n",
      "tweets\n",
      "NOUN\n",
      "domineering\n",
      "VERB\n",
      "personality\n",
      "NOUN\n",
      "2018\n",
      "NUM\n",
      "FIFA\n",
      "NOUN\n",
      "Cup\n",
      "NOUN\n",
      "21st\n",
      "NUM\n",
      "FIFA\n",
      "NOUN\n",
      "Cup\n",
      "NOUN\n",
      "tournament\n",
      "NOUN\n",
      "contested\n",
      "VERB\n",
      "Cup\n",
      "NOUN\n",
      "trips\n",
      "NOUN\n",
      "arriving\n",
      "VERB\n",
      "NASA\n",
      "NOUN\n",
      "invited\n",
      "VERB\n",
      "ICESAT-2\n",
      "NOUN\n",
      "Satellite\n",
      "NOUN\n",
      "[('``', '.'), ('Profit', 'NOUN'), ('may', 'VERB'), ('be', 'VERB'), ('low', 'ADJ'), (',', '.'), ('but', 'CONJ'), ('at', 'ADP'), ('least', 'ADJ'), ('costs', 'NOUN'), ('should', 'VERB'), ('be', 'VERB'), ('covered', 'VERB'), ('*-1', 'X'), ('.', '.'), ('This', 'DET'), ('is', 'VERB'), ('the', 'DET'), ('real', 'ADJ'), ('issue', 'NOUN'), ('raised', 'VERB'), ('*', 'X'), ('by', 'ADP'), ('the', 'DET'), ('Wedtech', 'NOUN'), ('scandal', 'NOUN'), ('.', '.'), ('As', 'ADP'), ('individual', 'ADJ'), ('investors', 'NOUN'), ('have', 'VERB'), ('turned', 'VERB'), ('away', 'ADV'), ('from', 'ADP'), ('the', 'DET'), ('stock', 'NOUN'), ('market', 'NOUN'), ('over', 'ADP'), ('the', 'DET'), ('years', 'NOUN'), (',', '.'), ('securities', 'NOUN'), ('firms', 'NOUN'), ('have', 'VERB'), ('scrambled', 'VERB'), ('*-1', 'X'), ('to', 'PRT'), ('find', 'VERB'), ('new', 'ADJ'), ('products', 'NOUN'), ('that', 'ADP'), ('brokers', 'NOUN'), ('find', 'VERB'), ('*T*-40', 'X'), ('easy', 'ADJ'), ('0', 'X'), ('*', 'X'), ('to', 'PRT'), ('sell', 'VERB'), ('*T*-2', 'X'), ('.', '.'), ('Georgia', 'NOUN'), ('Gulf', 'NOUN'), ('received', 'VERB'), ('a', 'DET'), ('new', 'ADJ'), ('takeover', 'NOUN'), ('bid', 'NOUN'), ('*ICH*-1', 'X'), ('from', 'ADP'), ('investor', 'NOUN'), ('Harold', 'NOUN'), ('Simmons', 'NOUN'), ('and', 'CONJ'), ('NL', 'NOUN'), ('Industries', 'NOUN'), ('of', 'ADP'), ('$', '.'), ('50', 'NUM'), ('*U*', 'X'), ('a', 'DET'), ('share', 'NOUN'), (',', '.'), ('or', 'CONJ'), ('about', 'ADP'), ('$', '.'), ('1.1', 'NUM'), ('billion', 'NUM'), ('*U*', 'X'), ('.', '.'), ('Most', 'ADJ'), ('contracts', 'NOUN'), ('are', 'VERB'), ('simply', 'ADV'), ('nullified', 'VERB'), ('*-1', 'X'), ('by', 'ADP'), ('an', 'DET'), ('opposite', 'NOUN'), ('trade', 'NOUN'), ('before', 'ADP'), ('they', 'PRON'), ('come', 'VERB'), ('due', 'ADJ'), ('.', '.')]\n"
     ]
    }
   ],
   "source": [
    "# applying on the Test sentence provided\n",
    "\n",
    "sentence_test = open('Test_sentences.txt',mode='r').read()\n",
    "words = word_tokenize(sentence_test)\n",
    "\n",
    "rulebased_test_tagged_seq = modified_Viterbi_rule_based(words)\n",
    "\n",
    "print(tagged_seq)\n",
    "\n",
    "rulebased_test_tagged_seq = tagged_seq"
   ]
  },
  {
   "cell_type": "markdown",
   "metadata": {},
   "source": [
    "#### Evaluating tagging accuracy"
   ]
  },
  {
   "cell_type": "code",
   "execution_count": 45,
   "metadata": {},
   "outputs": [],
   "source": [
    "# Modified version - 2\n",
    "def bigram_tagger(wording) :\n",
    "    t0 = DefaultTagger('NOUN')\n",
    "    t1 = UnigramTagger(train_set, backoff=t0)\n",
    "    t2 = BigramTagger(train_set, backoff=t1)\n",
    "    listvalue=t2.tag(nltk.word_tokenize(wording))\n",
    "    return listvalue[0][1]"
   ]
  },
  {
   "cell_type": "code",
   "execution_count": 46,
   "metadata": {},
   "outputs": [
    {
     "name": "stdout",
     "output_type": "stream",
     "text": [
      "nullified\n",
      "VERB\n",
      "opposite\n",
      "NOUN\n",
      "[('``', '.'), ('Profit', 'NOUN'), ('may', 'VERB'), ('be', 'VERB'), ('low', 'ADJ'), (',', '.'), ('but', 'CONJ'), ('at', 'ADP'), ('least', 'ADJ'), ('costs', 'NOUN'), ('should', 'VERB'), ('be', 'VERB'), ('covered', 'VERB'), ('*-1', 'X'), ('.', '.'), ('This', 'DET'), ('is', 'VERB'), ('the', 'DET'), ('real', 'ADJ'), ('issue', 'NOUN'), ('raised', 'VERB'), ('*', 'X'), ('by', 'ADP'), ('the', 'DET'), ('Wedtech', 'NOUN'), ('scandal', 'NOUN'), ('.', '.'), ('As', 'ADP'), ('individual', 'ADJ'), ('investors', 'NOUN'), ('have', 'VERB'), ('turned', 'VERB'), ('away', 'ADV'), ('from', 'ADP'), ('the', 'DET'), ('stock', 'NOUN'), ('market', 'NOUN'), ('over', 'ADP'), ('the', 'DET'), ('years', 'NOUN'), (',', '.'), ('securities', 'NOUN'), ('firms', 'NOUN'), ('have', 'VERB'), ('scrambled', 'VERB'), ('*-1', 'X'), ('to', 'PRT'), ('find', 'VERB'), ('new', 'ADJ'), ('products', 'NOUN'), ('that', 'ADP'), ('brokers', 'NOUN'), ('find', 'VERB'), ('*T*-40', 'X'), ('easy', 'ADJ'), ('0', 'X'), ('*', 'X'), ('to', 'PRT'), ('sell', 'VERB'), ('*T*-2', 'X'), ('.', '.'), ('Georgia', 'NOUN'), ('Gulf', 'NOUN'), ('received', 'VERB'), ('a', 'DET'), ('new', 'ADJ'), ('takeover', 'NOUN'), ('bid', 'NOUN'), ('*ICH*-1', 'X'), ('from', 'ADP'), ('investor', 'NOUN'), ('Harold', 'NOUN'), ('Simmons', 'NOUN'), ('and', 'CONJ'), ('NL', 'NOUN'), ('Industries', 'NOUN'), ('of', 'ADP'), ('$', '.'), ('50', 'NUM'), ('*U*', 'X'), ('a', 'DET'), ('share', 'NOUN'), (',', '.'), ('or', 'CONJ'), ('about', 'ADP'), ('$', '.'), ('1.1', 'NUM'), ('billion', 'NUM'), ('*U*', 'X'), ('.', '.'), ('Most', 'ADJ'), ('contracts', 'NOUN'), ('are', 'VERB'), ('simply', 'ADV'), ('nullified', 'VERB'), ('*-1', 'X'), ('by', 'ADP'), ('an', 'DET'), ('opposite', 'NOUN'), ('trade', 'NOUN'), ('before', 'ADP'), ('they', 'PRON'), ('come', 'VERB'), ('due', 'ADJ'), ('.', '.')]\n"
     ]
    }
   ],
   "source": [
    "# Viterbi heuristic lexicon based algorithm\n",
    "def modified_Viterbi_lexicon_based(words, train_bag = train_tagged_words):\n",
    "    state = []\n",
    "    T = list(set([pair[1] for pair in train_bag]))\n",
    "    \n",
    "    for key, word in enumerate(words):\n",
    "        #initialise list of probability column for a given observation\n",
    "        p = [] \n",
    "        for tag in T:\n",
    "            if key == 0:\n",
    "                transition_p = tags_df.loc['.', tag]\n",
    "            else:\n",
    "                transition_p = tags_df.loc[state[-1], tag]\n",
    "                \n",
    "            # compute emission and state probabilities\n",
    "            emission_p = word_given_tag(words[key], tag)[0]/word_given_tag(words[key], tag)[1]                \n",
    "            state_probability = emission_p * transition_p    \n",
    "            p.append(state_probability)\n",
    "        pmax = max(p)\n",
    "        if pmax == 0.0:       \n",
    "            state_max = rule_based_tagging(word, pattern)\n",
    "            if state_max is None :\n",
    "                state_max = \".\"\n",
    "        else :\n",
    "            state_max = T[p.index(pmax)] \n",
    "        state.append(state_max)\n",
    "    return list(zip(words, state))\n",
    "\n",
    "random.seed(1234)\n",
    "\n",
    "# choose random 5 sents\n",
    "rndom = [random.randint(1,len(test_data_set)) for x in range(5)]\n",
    "\n",
    "# list of sents\n",
    "test_run = [test_data_set[i] for i in rndom]\n",
    "\n",
    "# list of tagged words\n",
    "test_run_base = [tup for sent in test_run for tup in sent]\n",
    "\n",
    "# list of untagged words\n",
    "test_tagged_words = [tup[0] for sent in test_run for tup in sent]\n",
    "test_run\n",
    "\n",
    "# tagging the test sentences\n",
    "tagged_seq = modified_Viterbi_lexicon_based(test_tagged_words)\n",
    "print(tagged_seq)"
   ]
  },
  {
   "cell_type": "code",
   "execution_count": 47,
   "metadata": {},
   "outputs": [
    {
     "name": "stdout",
     "output_type": "stream",
     "text": [
      "0.9809523809523809\n"
     ]
    },
    {
     "data": {
      "text/plain": [
       "[[('products', 'NOUN'), (('that', 'ADP'), ('that', 'DET'))],\n",
       " [('an', 'DET'), (('opposite', 'NOUN'), ('opposite', 'ADJ'))]]"
      ]
     },
     "execution_count": 47,
     "metadata": {},
     "output_type": "execute_result"
    }
   ],
   "source": [
    "# accuracy of lexicon based\n",
    "check = [i for i, j in zip(tagged_seq, test_run_base) if i == j] \n",
    "lexicon_based_viterbi_accuracy = len(check)/len(tagged_seq)\n",
    "print(lexicon_based_viterbi_accuracy)\n",
    "\n",
    "incorrect_tagged_cases = [[test_run_base[i-1],j] for i, j in enumerate(zip(tagged_seq, test_run_base)) if j[0]!=j[1]]\n",
    "incorrect_tagged_cases"
   ]
  },
  {
   "cell_type": "code",
   "execution_count": 48,
   "metadata": {},
   "outputs": [
    {
     "name": "stdout",
     "output_type": "stream",
     "text": [
      "Android\n",
      "NOUN\n",
      "Google\n",
      "NOUN\n",
      "Android\n",
      "NOUN\n",
      "OS\n",
      "NOUN\n",
      "worldwide\n",
      "NOUN\n",
      "smartphones\n",
      "VERB\n",
      "2011\n",
      "NUM\n",
      "2013\n",
      "NUM\n",
      "Google\n",
      "NOUN\n",
      "Twitter\n",
      "NOUN\n",
      "2015\n",
      "NUM\n",
      "Google\n",
      "NOUN\n",
      "Twitter\n",
      "NOUN\n",
      "firehose\n",
      "NOUN\n",
      "Twitter\n",
      "NOUN\n",
      "online\n",
      "NOUN\n",
      "interact\n",
      "NOUN\n",
      "messages\n",
      "VERB\n",
      "tweets\n",
      "NOUN\n",
      "domineering\n",
      "VERB\n",
      "personality\n",
      "NOUN\n",
      "2018\n",
      "NUM\n",
      "FIFA\n",
      "NOUN\n",
      "Cup\n",
      "NOUN\n",
      "21st\n",
      "NUM\n",
      "FIFA\n",
      "NOUN\n",
      "Cup\n",
      "NOUN\n",
      "tournament\n",
      "NOUN\n",
      "contested\n",
      "VERB\n",
      "Cup\n",
      "NOUN\n",
      "trips\n",
      "NOUN\n",
      "arriving\n",
      "VERB\n",
      "NASA\n",
      "NOUN\n",
      "invited\n",
      "VERB\n",
      "ICESAT-2\n",
      "NOUN\n",
      "Satellite\n",
      "NOUN\n",
      "[('Android', 'NOUN'), ('is', 'VERB'), ('a', 'DET'), ('mobile', 'ADJ'), ('operating', 'NOUN'), ('system', 'NOUN'), ('developed', 'VERB'), ('by', 'ADP'), ('Google', 'NOUN'), ('.', '.'), ('Android', 'NOUN'), ('has', 'VERB'), ('been', 'VERB'), ('the', 'DET'), ('best-selling', 'ADJ'), ('OS', 'NOUN'), ('worldwide', 'NOUN'), ('on', 'ADP'), ('smartphones', 'VERB'), ('since', 'ADP'), ('2011', 'NUM'), ('and', 'CONJ'), ('on', 'ADP'), ('tablets', 'NOUN'), ('since', 'ADP'), ('2013', 'NUM'), ('.', '.'), ('Google', 'NOUN'), ('and', 'CONJ'), ('Twitter', 'NOUN'), ('made', 'VERB'), ('a', 'DET'), ('deal', 'NOUN'), ('in', 'ADP'), ('2015', 'NUM'), ('that', 'ADP'), ('gave', 'VERB'), ('Google', 'NOUN'), ('access', 'NOUN'), ('to', 'PRT'), ('Twitter', 'NOUN'), (\"'s\", 'PRT'), ('firehose', 'NOUN'), ('.', '.'), ('Twitter', 'NOUN'), ('is', 'VERB'), ('an', 'DET'), ('online', 'NOUN'), ('news', 'NOUN'), ('and', 'CONJ'), ('social', 'ADJ'), ('networking', 'NOUN'), ('service', 'NOUN'), ('on', 'ADP'), ('which', 'DET'), ('users', 'NOUN'), ('post', 'NOUN'), ('and', 'CONJ'), ('interact', 'NOUN'), ('with', 'ADP'), ('messages', 'VERB'), ('known', 'VERB'), ('as', 'ADP'), ('tweets', 'NOUN'), ('.', '.'), ('Before', 'ADP'), ('entering', 'VERB'), ('politics', 'NOUN'), (',', '.'), ('Donald', 'NOUN'), ('Trump', 'NOUN'), ('was', 'VERB'), ('a', 'DET'), ('domineering', 'VERB'), ('businessman', 'NOUN'), ('and', 'CONJ'), ('a', 'DET'), ('television', 'NOUN'), ('personality', 'NOUN'), ('.', '.'), ('The', 'DET'), ('2018', 'NUM'), ('FIFA', 'NOUN'), ('World', 'NOUN'), ('Cup', 'NOUN'), ('is', 'VERB'), ('the', 'DET'), ('21st', 'NUM'), ('FIFA', 'NOUN'), ('World', 'NOUN'), ('Cup', 'NOUN'), (',', '.'), ('an', 'DET'), ('international', 'ADJ'), ('football', 'NOUN'), ('tournament', 'NOUN'), ('contested', 'VERB'), ('once', 'ADV'), ('every', 'DET'), ('four', 'NUM'), ('years', 'NOUN'), ('.', '.'), ('This', 'DET'), ('is', 'VERB'), ('the', 'DET'), ('first', 'ADJ'), ('World', 'NOUN'), ('Cup', 'NOUN'), ('to', 'PRT'), ('be', 'VERB'), ('held', 'VERB'), ('in', 'ADP'), ('Eastern', 'NOUN'), ('Europe', 'NOUN'), ('and', 'CONJ'), ('the', 'DET'), ('11th', 'ADJ'), ('time', 'NOUN'), ('that', 'ADP'), ('it', 'PRON'), ('has', 'VERB'), ('been', 'VERB'), ('held', 'VERB'), ('in', 'ADP'), ('Europe', 'NOUN'), ('.', '.'), ('Show', 'NOUN'), ('me', 'PRON'), ('the', 'DET'), ('cheapest', 'ADJ'), ('round', 'NOUN'), ('trips', 'NOUN'), ('from', 'ADP'), ('Dallas', 'NOUN'), ('to', 'PRT'), ('Atlanta', 'NOUN'), ('I', 'PRON'), ('would', 'VERB'), ('like', 'ADP'), ('to', 'PRT'), ('see', 'VERB'), ('flights', 'NOUN'), ('from', 'ADP'), ('Denver', 'NOUN'), ('to', 'PRT'), ('Philadelphia', 'NOUN'), ('.', '.'), ('Show', 'NOUN'), ('me', 'PRON'), ('the', 'DET'), ('price', 'NOUN'), ('of', 'ADP'), ('the', 'DET'), ('flights', 'NOUN'), ('leaving', 'VERB'), ('Atlanta', 'NOUN'), ('at', 'ADP'), ('about', 'ADP'), ('3', 'NUM'), ('in', 'ADP'), ('the', 'DET'), ('afternoon', 'NOUN'), ('and', 'CONJ'), ('arriving', 'VERB'), ('in', 'ADP'), ('San', 'NOUN'), ('Francisco', 'NOUN'), ('.', '.'), ('NASA', 'NOUN'), ('invited', 'VERB'), ('social', 'ADJ'), ('media', 'NOUN'), ('users', 'NOUN'), ('to', 'PRT'), ('experience', 'NOUN'), ('the', 'DET'), ('launch', 'NOUN'), ('of', 'ADP'), ('ICESAT-2', 'NOUN'), ('Satellite', 'NOUN'), ('.', '.')]\n"
     ]
    }
   ],
   "source": [
    "# Applying on test sentence to verify the result\n",
    "sentence_test = open('Test_sentences.txt',mode='r').read()\n",
    "words = word_tokenize(sentence_test)\n",
    "\n",
    "lexicon_test_tagged_seq = modified_Viterbi_lexicon_based(words)\n",
    "\n",
    "print(lexicon_test_tagged_seq)"
   ]
  },
  {
   "cell_type": "markdown",
   "metadata": {},
   "source": [
    "### Compare the tagging accuracies of the modifications with the vanilla Viterbi algorithm"
   ]
  },
  {
   "cell_type": "code",
   "execution_count": 49,
   "metadata": {},
   "outputs": [
    {
     "name": "stdout",
     "output_type": "stream",
     "text": [
      "Vannila Viterbi Accuracy: 0.9108452335005789\n",
      "Rule Based Viterbi Accuracy: 0.9809523809523809\n",
      "Lexicon Based Viterbi Accuracy: 0.9809523809523809\n"
     ]
    }
   ],
   "source": [
    "print(\"Vannila Viterbi Accuracy: \"+ str(viterbi_accuracy))\n",
    "print(\"Rule Based Viterbi Accuracy: \"+ str(rulebased_modified_viterbi_accuracy))\n",
    "print(\"Lexicon Based Viterbi Accuracy: \"+ str(lexicon_based_viterbi_accuracy))"
   ]
  },
  {
   "cell_type": "markdown",
   "metadata": {},
   "source": [
    "From the above data, it is clear that rule based and lexicon based algorithm giv more accuracy compared to normal vanila based accuracy."
   ]
  },
  {
   "cell_type": "markdown",
   "metadata": {},
   "source": [
    "### List down cases which were incorrectly tagged by original POS tagger and got corrected by your modifications"
   ]
  },
  {
   "cell_type": "markdown",
   "metadata": {},
   "source": [
    "Following are conclusions dereived after applying rule based/ lexicon based algorithm:\n",
    "\n",
    ". Words like Google, Android, Twitter were incorrectly tagged by original POS tagger. After applying modified Viterbi algorithm, those words are tagged as NOUN.\n",
    "\n",
    ". Words like 'NASA', 'FIFA' are tagged as NOUN by modified Viterbi algorithm.\n",
    "\n",
    ". Words ending with 'ing' , 'ed' are tagged as VERB in Rule based tagging.\n",
    "\n",
    ". Applied the pattern for number. So words with integer or float type are assigned as NUM type.\n",
    "\n",
    ". Modified Viterbi Accuracy also improved as compared to default Viterbi algorithm."
   ]
  }
 ],
 "metadata": {
  "kernelspec": {
   "display_name": "Python 3",
   "language": "python",
   "name": "python3"
  },
  "language_info": {
   "codemirror_mode": {
    "name": "ipython",
    "version": 3
   },
   "file_extension": ".py",
   "mimetype": "text/x-python",
   "name": "python",
   "nbconvert_exporter": "python",
   "pygments_lexer": "ipython3",
   "version": "3.7.3"
  }
 },
 "nbformat": 4,
 "nbformat_minor": 2
}
